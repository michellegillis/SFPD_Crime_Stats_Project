{
 "cells": [
  {
   "cell_type": "code",
   "execution_count": 13,
   "metadata": {},
   "outputs": [],
   "source": [
    "import pandas as pd\n",
    "import matplotlib.pyplot as plt\n",
    "import numpy as np\n",
    "\n",
    "csvpath = \"Resources/sfpd_incidents_2016.csv\"\n",
    "sfpd_df = pd.read_csv(csvpath)"
   "source": [
    "Importing and cleaning data. We are dropping all non-criminal listings as well as offenses with under 300 occurances, as many of these either involve little to no threat to the general public or occur in extremely minimal numbers. The category of 'other offenses' was also dropped as it encompasses such a wide array of descriptions and poses difficulty in properly categorizing."
   ]
  },
  {
   "cell_type": "code",
   "execution_count": 14,
   "metadata": {},
   "outputs": [
    {
     "data": {
      "text/html": [
       "<div>\n",
       "<style scoped>\n",
       "    .dataframe tbody tr th:only-of-type {\n",
       "        vertical-align: middle;\n",
       "    }\n",
       "\n",
       "    .dataframe tbody tr th {\n",
       "        vertical-align: top;\n",
       "    }\n",
       "\n",
       "    .dataframe thead th {\n",
       "        text-align: right;\n",
       "    }\n",
       "</style>\n",
       "<table border=\"1\" class=\"dataframe\">\n",
       "  <thead>\n",
       "    <tr style=\"text-align: right;\">\n",
       "      <th></th>\n",
       "      <th>IncidntNum</th>\n",
       "      <th>Category</th>\n",
       "      <th>Descript</th>\n",
       "      <th>DayOfWeek</th>\n",
       "      <th>Date</th>\n",
       "      <th>Time</th>\n",
       "      <th>PdDistrict</th>\n",
       "      <th>Resolution</th>\n",
       "      <th>Address</th>\n",
       "      <th>X</th>\n",
       "      <th>Y</th>\n",
       "      <th>Location</th>\n",
       "      <th>Month</th>\n",
       "      <th>Hour</th>\n",
       "      <th>Time of Day</th>\n",
       "    </tr>\n",
       "  </thead>\n",
       "  <tbody>\n",
       "    <tr>\n",
       "      <th>0</th>\n",
       "      <td>120058272</td>\n",
       "      <td>WEAPON LAWS</td>\n",
       "      <td>POSS OF PROHIBITED WEAPON</td>\n",
       "      <td>Friday</td>\n",
       "      <td>01/29/2016 12:00:00 AM</td>\n",
       "      <td>11:00</td>\n",
       "      <td>SOUTHERN</td>\n",
       "      <td>ARREST, BOOKED</td>\n",
       "      <td>800 Block of BRYANT ST</td>\n",
       "      <td>-122.403405</td>\n",
       "      <td>37.775421</td>\n",
       "      <td>(37.775420706711, -122.403404791479)</td>\n",
       "      <td>01</td>\n",
       "      <td>11</td>\n",
       "      <td>Middle</td>\n",
       "    </tr>\n",
       "    <tr>\n",
       "      <th>1</th>\n",
       "      <td>120058272</td>\n",
       "      <td>WEAPON LAWS</td>\n",
       "      <td>FIREARM, LOADED, IN VEHICLE, POSSESSION OR USE</td>\n",
       "      <td>Friday</td>\n",
       "      <td>01/29/2016 12:00:00 AM</td>\n",
       "      <td>11:00</td>\n",
       "      <td>SOUTHERN</td>\n",
       "      <td>ARREST, BOOKED</td>\n",
       "      <td>800 Block of BRYANT ST</td>\n",
       "      <td>-122.403405</td>\n",
       "      <td>37.775421</td>\n",
       "      <td>(37.775420706711, -122.403404791479)</td>\n",
       "    </tr>\n",
       "    <tr>\n",
       "      <th>5</th>\n",
       "      <td>160002869</td>\n",
       "      <td>ASSAULT</td>\n",
       "      <td>BATTERY</td>\n",
       "      <td>Friday</td>\n",
       "      <td>01/01/2016 12:00:00 AM</td>\n",
       "      <td>21:35</td>\n",
       "      <td>NORTHERN</td>\n",
       "      <td>NONE</td>\n",
       "      <td>1700 Block of BUSH ST</td>\n",
       "      <td>-122.426077</td>\n",
       "      <td>37.788019</td>\n",
       "      <td>(37.788018555829, -122.426077177375)</td>\n",
       "      <td>01</td>\n",
       "      <td>21</td>\n",
       "      <td>Night</td>\n",
       "    </tr>\n",
       "    <tr>\n",
       "      <th>9</th>\n",
       "      <td>160003641</td>\n",
       "      <td>MISSING PERSON</td>\n",
       "      <td>FOUND PERSON</td>\n",
       "      <td>Friday</td>\n",
       "      <td>01/01/2016 12:00:00 AM</td>\n",
       "      <td>10:06</td>\n",
       "      <td>BAYVIEW</td>\n",
       "      <td>NONE</td>\n",
       "      <td>100 Block of CAMERON WY</td>\n",
       "      <td>-122.387182</td>\n",
       "      <td>37.720967</td>\n",
       "      <td>(37.7209669615499, -122.387181635995)</td>\n",
       "    </tr>\n",
       "    <tr>\n",
       "      <th>10</th>\n",
       "      <td>160086863</td>\n",
       "      <td>LARCENY/THEFT</td>\n",
       "      <td>ATTEMPTED THEFT FROM LOCKED VEHICLE</td>\n",
       "      <td>Friday</td>\n",
       "      <td>01/29/2016 12:00:00 AM</td>\n",
       "      <td>22:30</td>\n",
       "      <td>TARAVAL</td>\n",
       "      <td>NONE</td>\n",
       "      <td>1200 Block of 19TH AV</td>\n",
       "      <td>-122.477377</td>\n",
       "      <td>37.764478</td>\n",
       "      <td>(37.7644781578695, -122.477376524003)</td>\n",
       "    </tr>\n",
       "    <tr>\n",
       "      <th>...</th>\n",
       "      <td>...</td>\n",
       "      <td>...</td>\n",
       "      <td>...</td>\n",
       "      <td>...</td>\n",
       "      <td>...</td>\n",
       "      <td>...</td>\n",
       "      <td>...</td>\n",
       "      <td>...</td>\n",
       "      <td>...</td>\n",
       "      <td>...</td>\n",
       "      <td>...</td>\n",
       "      <td>...</td>\n",
       "    </tr>\n",
       "    <tr>\n",
       "      <th>150492</th>\n",
       "      <td>160823994</td>\n",
       "      <td>ASSAULT</td>\n",
       "      <td>BATTERY</td>\n",
       "      <td>Sunday</td>\n",
       "      <td>10/09/2016 12:00:00 AM</td>\n",
       "      <td>21:15</td>\n",
       "      <td>MISSION</td>\n",
       "      <td>NONE</td>\n",
       "      <td>18TH ST / MISSION ST</td>\n",
       "      <td>-122.419360</td>\n",
       "      <td>37.761836</td>\n",
       "      <td>(37.7618358012376, -122.419360352761)</td>\n",
       "    </tr>\n",
       "    <tr>\n",
       "      <th>150493</th>\n",
       "      <td>160858327</td>\n",
       "      <td>ASSAULT</td>\n",
       "      <td>BATTERY</td>\n",
       "      <td>Friday</td>\n",
       "      <td>10/21/2016 12:00:00 AM</td>\n",
       "      <td>13:30</td>\n",
       "      <td>MISSION</td>\n",
       "      <td>NONE</td>\n",
       "      <td>3400 Block of 18TH ST</td>\n",
       "      <td>-122.419749</td>\n",
       "      <td>37.761867</td>\n",
       "      <td>(37.7618672648972, -122.419748993977)</td>\n",
       "    </tr>\n",
       "    <tr>\n",
       "      <th>150495</th>\n",
       "      <td>161061000</td>\n",
       "      <td>ASSAULT</td>\n",
       "      <td>BATTERY</td>\n",
       "      <td>Friday</td>\n",
       "      <td>01/01/2016 12:00:00 AM</td>\n",
       "      <td>10:06</td>\n",
       "      <td>BAYVIEW</td>\n",
       "      <td>NONE</td>\n",
       "      <td>100 Block of CAMERON WY</td>\n",
       "      <td>-122.387182</td>\n",
       "      <td>37.720967</td>\n",
       "      <td>(37.7209669615499, -122.387181635995)</td>\n",
       "      <td>01</td>\n",
       "      <td>10</td>\n",
       "      <td>Middle</td>\n",
       "    </tr>\n",
       "    <tr>\n",
       "      <th>10</th>\n",
       "      <td>160086863</td>\n",
       "      <td>LARCENY/THEFT</td>\n",
       "      <td>ATTEMPTED THEFT FROM LOCKED VEHICLE</td>\n",
       "      <td>Friday</td>\n",
       "      <td>01/29/2016 12:00:00 AM</td>\n",
       "      <td>22:30</td>\n",
       "      <td>TARAVAL</td>\n",
       "      <td>NONE</td>\n",
       "      <td>200 Block of STOCKTON ST</td>\n",
       "      <td>-122.406659</td>\n",
       "      <td>37.788275</td>\n",
       "      <td>(37.7882745285785, -122.406658711008)</td>\n",
       "    </tr>\n",
       "  </tbody>\n",
       "</table>\n",
       "<p>104928 rows × 12 columns</p>\n",
       "</div>"
      ],
      "text/plain": [
       "        IncidntNum        Category  \\\n",
       "0        120058272     WEAPON LAWS   \n",
       "1        120058272     WEAPON LAWS   \n",
       "5        160002869         ASSAULT   \n",
       "9        160003641  MISSING PERSON   \n",
       "10       160086863   LARCENY/THEFT   \n",
       "...            ...             ...   \n",
       "150492   160823994         ASSAULT   \n",
       "150493   160858327         ASSAULT   \n",
       "150495   161061000         ASSAULT   \n",
       "150497   176000758   LARCENY/THEFT   \n",
       "150498   176000764   LARCENY/THEFT   \n",
       "\n",
       "                                              Descript DayOfWeek  \\\n",
       "0                            POSS OF PROHIBITED WEAPON    Friday   \n",
       "1       FIREARM, LOADED, IN VEHICLE, POSSESSION OR USE    Friday   \n",
       "5                                              BATTERY    Friday   \n",
       "9                                         FOUND PERSON    Friday   \n",
       "10                 ATTEMPTED THEFT FROM LOCKED VEHICLE    Friday   \n",
       "...                                                ...       ...   \n",
       "150492                                         BATTERY    Sunday   \n",
       "150493                                         BATTERY    Friday   \n",
       "150495                                         BATTERY    Friday   \n",
       "150497                         PETTY THEFT OF PROPERTY  Thursday   \n",
       "150498                         GRAND THEFT OF PROPERTY    Friday   \n",
       "\n",
       "                          Date   Time PdDistrict      Resolution  \\\n",
       "0       01/29/2016 12:00:00 AM  11:00   SOUTHERN  ARREST, BOOKED   \n",
       "1       01/29/2016 12:00:00 AM  11:00   SOUTHERN  ARREST, BOOKED   \n",
       "5       01/01/2016 12:00:00 AM  21:35   NORTHERN            NONE   \n",
       "9       01/01/2016 12:00:00 AM  10:06    BAYVIEW            NONE   \n",
       "10      01/29/2016 12:00:00 AM  22:30    TARAVAL            NONE   \n",
       "...                        ...    ...        ...             ...   \n",
       "150492  10/09/2016 12:00:00 AM  21:15    MISSION            NONE   \n",
       "150493  10/21/2016 12:00:00 AM  13:30    MISSION            NONE   \n",
       "150495  12/30/2016 12:00:00 AM  21:01       PARK            NONE   \n",
       "150497  12/29/2016 12:00:00 AM  20:00    CENTRAL            NONE   \n",
       "150498  12/30/2016 12:00:00 AM  10:00    CENTRAL            NONE   \n",
       "\n",
       "                         Address           X          Y  \\\n",
       "0         800 Block of BRYANT ST -122.403405  37.775421   \n",
       "1         800 Block of BRYANT ST -122.403405  37.775421   \n",
       "5          1700 Block of BUSH ST -122.426077  37.788019   \n",
       "9        100 Block of CAMERON WY -122.387182  37.720967   \n",
       "10         1200 Block of 19TH AV -122.477377  37.764478   \n",
       "...                          ...         ...        ...   \n",
       "150492      18TH ST / MISSION ST -122.419360  37.761836   \n",
       "150493     3400 Block of 18TH ST -122.419749  37.761867   \n",
       "150495       OAK ST / STANYAN ST -122.453982  37.771428   \n",
       "150497       PINE ST / TAYLOR ST -122.412269  37.790673   \n",
       "150498  200 Block of STOCKTON ST -122.406659  37.788275   \n",
       "\n",
       "                                     Location  \n",
       "0        (37.775420706711, -122.403404791479)  \n",
       "1        (37.775420706711, -122.403404791479)  \n",
       "5        (37.788018555829, -122.426077177375)  \n",
       "9       (37.7209669615499, -122.387181635995)  \n",
       "10      (37.7644781578695, -122.477376524003)  \n",
       "...                                       ...  \n",
       "150492  (37.7618358012376, -122.419360352761)  \n",
       "150493  (37.7618672648972, -122.419748993977)  \n",
       "150495  (37.7714278595913, -122.453981622365)  \n",
       "150497   (37.7906727649886, -122.41226909106)  \n",
       "150498  (37.7882745285785, -122.406658711008)  \n",
       "\n",
       "[104928 rows x 12 columns]"
      ]
     },
     "execution_count": 14,
     "metadata": {},
     "output_type": "execute_result"
    }
   ],
   "source": [
    "# The data frame with all unwanted categories removed\n",
    "sf_clean = sfpd_df[~sfpd_df['Category'].isin(['NON-CRIMINAL', 'OTHER OFFENSES','SECONDARY CODES','WARRANTS','SUICIDE','BRIBERY','EXTORTION','EXTORTION','FAMILY OFFENSES','LOITERING','SEX OFFENSES', 'NON FORCIBLE','BAD CHECKS','GAMBLING','PORNOGRAPHY/OBSCENE MAT','TREA'])]\n",
    "sf_clean_df = sf_clean.dropna(how='any')\n",
    "sf_crime = sf_clean_df.drop(['PdId'], axis = 1)\n",
    "sf_crime"
   ]
  },
  {
   "cell_type": "code",
   "execution_count": 15,
   "metadata": {},
   "outputs": [
    {
     "data": {
      "text/html": [
       "<div>\n",
       "<style scoped>\n",
       "    .dataframe tbody tr th:only-of-type {\n",
       "        vertical-align: middle;\n",
       "    }\n",
       "\n",
       "    .dataframe tbody tr th {\n",
       "        vertical-align: top;\n",
       "    }\n",
       "\n",
       "    .dataframe thead th {\n",
       "        text-align: right;\n",
       "    }\n",
       "</style>\n",
       "<table border=\"1\" class=\"dataframe\">\n",
       "  <thead>\n",
       "    <tr style=\"text-align: right;\">\n",
       "      <th></th>\n",
       "      <th>IncidntNum</th>\n",
       "      <th>Category</th>\n",
       "      <th>Descript</th>\n",
       "      <th>DayOfWeek</th>\n",
       "      <th>Date</th>\n",
       "      <th>Time</th>\n",
       "      <th>PdDistrict</th>\n",
       "      <th>Resolution</th>\n",
       "      <th>Address</th>\n",
       "      <th>X</th>\n",
       "      <th>Y</th>\n",
       "      <th>Location</th>\n",
       "      <th>Hour</th>\n",
       "    </tr>\n",
       "  </thead>\n",
       "  <tbody>\n",
       "    <tr>\n",
       "      <th>0</th>\n",
       "      <td>120058272</td>\n",
       "      <td>WEAPON LAWS</td>\n",
       "      <td>POSS OF PROHIBITED WEAPON</td>\n",
       "      <td>Friday</td>\n",
       "      <td>01/29/2016 12:00:00 AM</td>\n",
       "      <td>11:00</td>\n",
       "      <td>SOUTHERN</td>\n",
       "      <td>ARREST, BOOKED</td>\n",
       "      <td>800 Block of BRYANT ST</td>\n",
       "      <td>-122.403405</td>\n",
       "      <td>37.775421</td>\n",
       "      <td>(37.775420706711, -122.403404791479)</td>\n",
       "      <td>11</td>\n",
       "    </tr>\n",
       "    <tr>\n",
       "      <th>1</th>\n",
       "      <td>120058272</td>\n",
       "      <td>WEAPON LAWS</td>\n",
       "      <td>FIREARM, LOADED, IN VEHICLE, POSSESSION OR USE</td>\n",
       "      <td>Friday</td>\n",
       "      <td>01/29/2016 12:00:00 AM</td>\n",
       "      <td>11:00</td>\n",
       "      <td>SOUTHERN</td>\n",
       "      <td>ARREST, BOOKED</td>\n",
       "      <td>800 Block of BRYANT ST</td>\n",
       "      <td>-122.403405</td>\n",
       "      <td>37.775421</td>\n",
       "      <td>(37.775420706711, -122.403404791479)</td>\n",
       "      <td>11</td>\n",
       "    </tr>\n",
       "    <tr>\n",
       "      <th>5</th>\n",
       "      <td>160002869</td>\n",
       "      <td>ASSAULT</td>\n",
       "      <td>BATTERY</td>\n",
       "      <td>Friday</td>\n",
       "      <td>01/01/2016 12:00:00 AM</td>\n",
       "      <td>21:35</td>\n",
       "      <td>NORTHERN</td>\n",
       "      <td>NONE</td>\n",
       "      <td>1700 Block of BUSH ST</td>\n",
       "      <td>-122.426077</td>\n",
       "      <td>37.788019</td>\n",
       "      <td>(37.788018555829, -122.426077177375)</td>\n",
       "      <td>21</td>\n",
       "    </tr>\n",
       "    <tr>\n",
       "      <th>9</th>\n",
       "      <td>160003641</td>\n",
       "      <td>MISSING PERSON</td>\n",
       "      <td>FOUND PERSON</td>\n",
       "      <td>Friday</td>\n",
       "      <td>01/01/2016 12:00:00 AM</td>\n",
       "      <td>10:06</td>\n",
       "      <td>BAYVIEW</td>\n",
       "      <td>NONE</td>\n",
       "      <td>100 Block of CAMERON WY</td>\n",
       "      <td>-122.387182</td>\n",
       "      <td>37.720967</td>\n",
       "      <td>(37.7209669615499, -122.387181635995)</td>\n",
       "      <td>10</td>\n",
       "    </tr>\n",
       "    <tr>\n",
       "      <th>10</th>\n",
       "      <td>160086863</td>\n",
       "      <td>LARCENY/THEFT</td>\n",
       "      <td>ATTEMPTED THEFT FROM LOCKED VEHICLE</td>\n",
       "      <td>Friday</td>\n",
       "      <td>01/29/2016 12:00:00 AM</td>\n",
       "      <td>22:30</td>\n",
       "      <td>TARAVAL</td>\n",
       "      <td>NONE</td>\n",
       "      <td>1200 Block of 19TH AV</td>\n",
       "      <td>-122.477377</td>\n",
       "      <td>37.764478</td>\n",
       "      <td>(37.7644781578695, -122.477376524003)</td>\n",
       "      <td>22</td>\n",
       "    </tr>\n",
       "    <tr>\n",
       "      <th>...</th>\n",
       "      <td>...</td>\n",
       "      <td>...</td>\n",
       "      <td>...</td>\n",
       "      <td>...</td>\n",
       "      <td>...</td>\n",
       "      <td>...</td>\n",
       "      <td>...</td>\n",
       "      <td>...</td>\n",
       "      <td>...</td>\n",
       "      <td>...</td>\n",
       "      <td>...</td>\n",
       "      <td>...</td>\n",
       "      <td>...</td>\n",
       "    </tr>\n",
       "    <tr>\n",
       "      <th>150492</th>\n",
       "      <td>160823994</td>\n",
       "      <td>ASSAULT</td>\n",
       "      <td>BATTERY</td>\n",
       "      <td>Sunday</td>\n",
       "      <td>10/09/2016 12:00:00 AM</td>\n",
       "      <td>21:15</td>\n",
       "      <td>MISSION</td>\n",
       "      <td>NONE</td>\n",
       "      <td>18TH ST / MISSION ST</td>\n",
       "      <td>-122.419360</td>\n",
       "      <td>37.761836</td>\n",
       "      <td>(37.7618358012376, -122.419360352761)</td>\n",
       "      <td>21</td>\n",
       "    </tr>\n",
       "    <tr>\n",
       "      <th>150493</th>\n",
       "      <td>160858327</td>\n",
       "      <td>ASSAULT</td>\n",
       "      <td>BATTERY</td>\n",
       "      <td>Friday</td>\n",
       "      <td>10/21/2016 12:00:00 AM</td>\n",
       "      <td>13:30</td>\n",
       "      <td>MISSION</td>\n",
       "      <td>NONE</td>\n",
       "      <td>3400 Block of 18TH ST</td>\n",
       "      <td>-122.419749</td>\n",
       "      <td>37.761867</td>\n",
       "      <td>(37.7618672648972, -122.419748993977)</td>\n",
       "      <td>13</td>\n",
       "    </tr>\n",
       "    <tr>\n",
       "      <th>150495</th>\n",
       "      <td>161061000</td>\n",
       "      <td>ASSAULT</td>\n",
       "      <td>BATTERY</td>\n",
       "      <td>Friday</td>\n",
       "      <td>12/30/2016 12:00:00 AM</td>\n",
       "      <td>21:01</td>\n",
       "      <td>PARK</td>\n",
       "      <td>NONE</td>\n",
       "      <td>OAK ST / STANYAN ST</td>\n",
       "      <td>-122.453982</td>\n",
       "      <td>37.771428</td>\n",
       "      <td>(37.7714278595913, -122.453981622365)</td>\n",
       "      <td>21</td>\n",
       "    </tr>\n",
       "    <tr>\n",
       "      <th>150497</th>\n",
       "      <td>176000758</td>\n",
       "      <td>LARCENY/THEFT</td>\n",
       "      <td>PETTY THEFT OF PROPERTY</td>\n",
       "      <td>Thursday</td>\n",
       "      <td>12/29/2016 12:00:00 AM</td>\n",
       "      <td>20:00</td>\n",
       "      <td>CENTRAL</td>\n",
       "      <td>NONE</td>\n",
       "      <td>PINE ST / TAYLOR ST</td>\n",
       "      <td>-122.412269</td>\n",
       "      <td>37.790673</td>\n",
       "      <td>(37.7906727649886, -122.41226909106)</td>\n",
       "      <td>20</td>\n",
       "    </tr>\n",
       "    <tr>\n",
       "      <th>150498</th>\n",
       "      <td>176000764</td>\n",
       "      <td>LARCENY/THEFT</td>\n",
       "      <td>GRAND THEFT OF PROPERTY</td>\n",
       "      <td>Friday</td>\n",
       "      <td>12/30/2016 12:00:00 AM</td>\n",
       "      <td>10:00</td>\n",
       "      <td>CENTRAL</td>\n",
       "      <td>NONE</td>\n",
       "      <td>200 Block of STOCKTON ST</td>\n",
       "      <td>-122.406659</td>\n",
       "      <td>37.788275</td>\n",
       "      <td>(37.7882745285785, -122.406658711008)</td>\n",
       "      <td>10</td>\n",
       "    </tr>\n",
       "  </tbody>\n",
       "</table>\n",
       "<p>104928 rows × 13 columns</p>\n",
       "</div>"
      ],
      "text/plain": [
       "        IncidntNum        Category  \\\n",
       "0        120058272     WEAPON LAWS   \n",
       "1        120058272     WEAPON LAWS   \n",
       "5        160002869         ASSAULT   \n",
       "9        160003641  MISSING PERSON   \n",
       "10       160086863   LARCENY/THEFT   \n",
       "...            ...             ...   \n",
       "150492   160823994         ASSAULT   \n",
       "150493   160858327         ASSAULT   \n",
       "150495   161061000         ASSAULT   \n",
       "150497   176000758   LARCENY/THEFT   \n",
       "150498   176000764   LARCENY/THEFT   \n",
       "\n",
       "                                              Descript DayOfWeek  \\\n",
       "0                            POSS OF PROHIBITED WEAPON    Friday   \n",
       "1       FIREARM, LOADED, IN VEHICLE, POSSESSION OR USE    Friday   \n",
       "5                                              BATTERY    Friday   \n",
       "9                                         FOUND PERSON    Friday   \n",
       "10                 ATTEMPTED THEFT FROM LOCKED VEHICLE    Friday   \n",
       "...                                                ...       ...   \n",
       "150492                                         BATTERY    Sunday   \n",
       "150493                                         BATTERY    Friday   \n",
       "150495                                         BATTERY    Friday   \n",
       "150497                         PETTY THEFT OF PROPERTY  Thursday   \n",
       "150498                         GRAND THEFT OF PROPERTY    Friday   \n",
       "\n",
       "                          Date   Time PdDistrict      Resolution  \\\n",
       "0       01/29/2016 12:00:00 AM  11:00   SOUTHERN  ARREST, BOOKED   \n",
       "1       01/29/2016 12:00:00 AM  11:00   SOUTHERN  ARREST, BOOKED   \n",
       "5       01/01/2016 12:00:00 AM  21:35   NORTHERN            NONE   \n",
       "9       01/01/2016 12:00:00 AM  10:06    BAYVIEW            NONE   \n",
       "10      01/29/2016 12:00:00 AM  22:30    TARAVAL            NONE   \n",
       "...                        ...    ...        ...             ...   \n",
       "150492  10/09/2016 12:00:00 AM  21:15    MISSION            NONE   \n",
       "150493  10/21/2016 12:00:00 AM  13:30    MISSION            NONE   \n",
       "150495  12/30/2016 12:00:00 AM  21:01       PARK            NONE   \n",
       "150497  12/29/2016 12:00:00 AM  20:00    CENTRAL            NONE   \n",
       "150498  12/30/2016 12:00:00 AM  10:00    CENTRAL            NONE   \n",
       "\n",
       "                         Address           X          Y  \\\n",
       "0         800 Block of BRYANT ST -122.403405  37.775421   \n",
       "1         800 Block of BRYANT ST -122.403405  37.775421   \n",
       "5          1700 Block of BUSH ST -122.426077  37.788019   \n",
       "9        100 Block of CAMERON WY -122.387182  37.720967   \n",
       "10         1200 Block of 19TH AV -122.477377  37.764478   \n",
       "...                          ...         ...        ...   \n",
       "150492      18TH ST / MISSION ST -122.419360  37.761836   \n",
       "150493     3400 Block of 18TH ST -122.419749  37.761867   \n",
       "150495       OAK ST / STANYAN ST -122.453982  37.771428   \n",
       "150497       PINE ST / TAYLOR ST -122.412269  37.790673   \n",
       "150498  200 Block of STOCKTON ST -122.406659  37.788275   \n",
       "\n",
       "                                     Location  Hour  \n",
       "0        (37.775420706711, -122.403404791479)    11  \n",
       "1        (37.775420706711, -122.403404791479)    11  \n",
       "5        (37.788018555829, -122.426077177375)    21  \n",
       "9       (37.7209669615499, -122.387181635995)    10  \n",
       "10      (37.7644781578695, -122.477376524003)    22  \n",
       "...                                       ...   ...  \n",
       "150492  (37.7618358012376, -122.419360352761)    21  \n",
       "150493  (37.7618672648972, -122.419748993977)    13  \n",
       "150495  (37.7714278595913, -122.453981622365)    21  \n",
       "150497   (37.7906727649886, -122.41226909106)    20  \n",
       "150498  (37.7882745285785, -122.406658711008)    10  \n",
       "\n",
       "[104928 rows x 13 columns]"
      ]
     },
     "execution_count": 15,
     "metadata": {},
     "output_type": "execute_result"
    }
   ],
   "source": [
    "# Cleaning the 'Time' column\n",
    "time_min = pd.to_datetime(sf_crime[\"Time\"])\n",
    "time_clean = time_min.dt.hour\n",
    "sf_crime['Hour'] = time_clean\n",
    "sf_crime"
   ]
  },
  {
   "cell_type": "code",
   "execution_count": 16,
   "metadata": {},
   "outputs": [],
   "source": [
    "# Bin code 00:00-08:00, 09:00-17:00, 18:00-24:00"
   ]
  },
  {
   "cell_type": "code",
   "execution_count": 17,
   "metadata": {},
   "outputs": [],
   "source": [
    "# Creating the bins for the 'Hours'\n",
    "bins = [0,8,17,24]\n",
    "time_of_day = [\"Morning\", \"Middle\", \"Night\"]"
   ]
  },
  {
   "cell_type": "code",
   "execution_count": 18,
   "metadata": {},
   "outputs": [
    {
     "data": {
      "text/plain": [
       "0     Middle\n",
       "1     Middle\n",
       "5      Night\n",
       "9     Middle\n",
       "10     Night\n",
       "Name: Hour, dtype: category\n",
       "Categories (3, object): [Morning < Middle < Night]"
      ]
     },
     "execution_count": 18,
     "metadata": {},
     "output_type": "execute_result"
    }
   ],
   "source": [
    "# Applying the bins to 'Hours'\n",
    "pd.cut(sf_crime[\"Hour\"], bins, labels=time_of_day).head()"
   ]
  },
  {
   "cell_type": "code",
   "execution_count": 19,
   "metadata": {},
   "outputs": [
    {
     "data": {
      "text/html": [
       "<div>\n",
       "<style scoped>\n",
       "    .dataframe tbody tr th:only-of-type {\n",
       "        vertical-align: middle;\n",
       "    }\n",
       "\n",
       "    .dataframe tbody tr th {\n",
       "        vertical-align: top;\n",
       "    }\n",
       "\n",
       "    .dataframe thead th {\n",
       "        text-align: right;\n",
       "    }\n",
       "</style>\n",
       "<table border=\"1\" class=\"dataframe\">\n",
       "  <thead>\n",
       "    <tr style=\"text-align: right;\">\n",
       "      <th></th>\n",
       "      <th>IncidntNum</th>\n",
       "      <th>Category</th>\n",
       "      <th>Descript</th>\n",
       "      <th>DayOfWeek</th>\n",
       "      <th>Date</th>\n",
       "      <th>Time</th>\n",
       "      <th>PdDistrict</th>\n",
       "      <th>Resolution</th>\n",
       "      <th>Address</th>\n",
       "      <th>X</th>\n",
       "      <th>Y</th>\n",
       "      <th>Location</th>\n",
       "      <th>Hour</th>\n",
       "      <th>Time of Day</th>\n",
       "    </tr>\n",
       "  </thead>\n",
       "  <tbody>\n",
       "    <tr>\n",
       "      <th>0</th>\n",
       "      <td>120058272</td>\n",
       "      <td>WEAPON LAWS</td>\n",
       "      <td>POSS OF PROHIBITED WEAPON</td>\n",
       "      <td>Friday</td>\n",
       "      <td>01/29/2016 12:00:00 AM</td>\n",
       "      <td>11:00</td>\n",
       "      <td>SOUTHERN</td>\n",
       "      <td>ARREST, BOOKED</td>\n",
       "      <td>800 Block of BRYANT ST</td>\n",
       "      <td>-122.403405</td>\n",
       "      <td>37.775421</td>\n",
       "      <td>(37.775420706711, -122.403404791479)</td>\n",
       "      <td>11</td>\n",
       "      <td>Middle</td>\n",
       "    </tr>\n",
       "    <tr>\n",
       "      <th>1</th>\n",
       "      <td>120058272</td>\n",
       "      <td>WEAPON LAWS</td>\n",
       "      <td>FIREARM, LOADED, IN VEHICLE, POSSESSION OR USE</td>\n",
       "      <td>Friday</td>\n",
       "      <td>01/29/2016 12:00:00 AM</td>\n",
       "      <td>11:00</td>\n",
       "      <td>SOUTHERN</td>\n",
       "      <td>ARREST, BOOKED</td>\n",
       "      <td>800 Block of BRYANT ST</td>\n",
       "      <td>-122.403405</td>\n",
       "      <td>37.775421</td>\n",
       "      <td>(37.775420706711, -122.403404791479)</td>\n",
       "      <td>11</td>\n",
       "      <td>Middle</td>\n",
       "    </tr>\n",
       "    <tr>\n",
       "      <th>5</th>\n",
       "      <td>160002869</td>\n",
       "      <td>ASSAULT</td>\n",
       "      <td>BATTERY</td>\n",
       "      <td>Friday</td>\n",
       "      <td>01/01/2016 12:00:00 AM</td>\n",
       "      <td>21:35</td>\n",
       "      <td>NORTHERN</td>\n",
       "      <td>NONE</td>\n",
       "      <td>1700 Block of BUSH ST</td>\n",
       "      <td>-122.426077</td>\n",
       "      <td>37.788019</td>\n",
       "      <td>(37.788018555829, -122.426077177375)</td>\n",
       "      <td>21</td>\n",
       "      <td>Night</td>\n",
       "    </tr>\n",
       "    <tr>\n",
       "      <th>9</th>\n",
       "      <td>160003641</td>\n",
       "      <td>MISSING PERSON</td>\n",
       "      <td>FOUND PERSON</td>\n",
       "      <td>Friday</td>\n",
       "      <td>01/01/2016 12:00:00 AM</td>\n",
       "      <td>10:06</td>\n",
       "      <td>BAYVIEW</td>\n",
       "      <td>NONE</td>\n",
       "      <td>100 Block of CAMERON WY</td>\n",
       "      <td>-122.387182</td>\n",
       "      <td>37.720967</td>\n",
       "      <td>(37.7209669615499, -122.387181635995)</td>\n",
       "      <td>10</td>\n",
       "      <td>Middle</td>\n",
       "    </tr>\n",
       "    <tr>\n",
       "      <th>10</th>\n",
       "      <td>160086863</td>\n",
       "      <td>LARCENY/THEFT</td>\n",
       "      <td>ATTEMPTED THEFT FROM LOCKED VEHICLE</td>\n",
       "      <td>Friday</td>\n",
       "      <td>01/29/2016 12:00:00 AM</td>\n",
       "      <td>22:30</td>\n",
       "      <td>TARAVAL</td>\n",
       "      <td>NONE</td>\n",
       "      <td>1200 Block of 19TH AV</td>\n",
       "      <td>-122.477377</td>\n",
       "      <td>37.764478</td>\n",
       "      <td>(37.7644781578695, -122.477376524003)</td>\n",
       "      <td>22</td>\n",
       "      <td>Night</td>\n",
       "    </tr>\n",
       "  </tbody>\n",
       "</table>\n",
       "</div>"
      ],
      "text/plain": [
       "    IncidntNum        Category  \\\n",
       "0    120058272     WEAPON LAWS   \n",
       "1    120058272     WEAPON LAWS   \n",
       "5    160002869         ASSAULT   \n",
       "9    160003641  MISSING PERSON   \n",
       "10   160086863   LARCENY/THEFT   \n",
       "\n",
       "                                          Descript DayOfWeek  \\\n",
       "0                        POSS OF PROHIBITED WEAPON    Friday   \n",
       "1   FIREARM, LOADED, IN VEHICLE, POSSESSION OR USE    Friday   \n",
       "5                                          BATTERY    Friday   \n",
       "9                                     FOUND PERSON    Friday   \n",
       "10             ATTEMPTED THEFT FROM LOCKED VEHICLE    Friday   \n",
       "\n",
       "                      Date   Time PdDistrict      Resolution  \\\n",
       "0   01/29/2016 12:00:00 AM  11:00   SOUTHERN  ARREST, BOOKED   \n",
       "1   01/29/2016 12:00:00 AM  11:00   SOUTHERN  ARREST, BOOKED   \n",
       "5   01/01/2016 12:00:00 AM  21:35   NORTHERN            NONE   \n",
       "9   01/01/2016 12:00:00 AM  10:06    BAYVIEW            NONE   \n",
       "10  01/29/2016 12:00:00 AM  22:30    TARAVAL            NONE   \n",
       "\n",
       "                    Address           X          Y  \\\n",
       "0    800 Block of BRYANT ST -122.403405  37.775421   \n",
       "1    800 Block of BRYANT ST -122.403405  37.775421   \n",
       "5     1700 Block of BUSH ST -122.426077  37.788019   \n",
       "9   100 Block of CAMERON WY -122.387182  37.720967   \n",
       "10    1200 Block of 19TH AV -122.477377  37.764478   \n",
       "\n",
       "                                 Location  Hour Time of Day  \n",
       "0    (37.775420706711, -122.403404791479)    11      Middle  \n",
       "1    (37.775420706711, -122.403404791479)    11      Middle  \n",
       "5    (37.788018555829, -122.426077177375)    21       Night  \n",
       "9   (37.7209669615499, -122.387181635995)    10      Middle  \n",
       "10  (37.7644781578695, -122.477376524003)    22       Night  "
      ]
     },
     "execution_count": 19,
     "metadata": {},
     "output_type": "execute_result"
    }
   ],
   "source": [
    "# Adding the assigning the bins to 'Time of Day' and adding it to the dataframe\n",
    "sf_crime[\"Time of Day\"] = pd.cut(sf_crime[\"Hour\"], bins, labels=time_of_day)\n",
    "sf_crime.head()"
   ]
  },
  {
   "cell_type": "code",
   "execution_count": 20,
   "metadata": {},
   "outputs": [],
   "source": [
    "# Bar graph showing crime types across the city "
   ]
  },
  {
   "cell_type": "code",
   "execution_count": 2,
   "metadata": {},
   "outputs": [],
   "source": [
    "month_data = sfpd_clean[['Month','Category']]\n",
    "month_datagrouped = month_data.groupby(['Month']).count()\n",
    "month_datagrouped = month_datagrouped.sort_values('Category', ascending=False)"
   ]
  },
  {
   "cell_type": "code",
   "execution_count": 3,
   "metadata": {},
   "outputs": [
    {
     "data": {
      "text/plain": [
       "Text(0.5, 1.0, 'Recorded Offenses per Month')"
      ]
     },
     "execution_count": 3,
     "metadata": {},
     "output_type": "execute_result"
    },
    {
     "data": {
      "image/png": "iVBORw0KGgoAAAANSUhEUgAAAYsAAAErCAYAAAAv/K9lAAAABHNCSVQICAgIfAhkiAAAAAlwSFlzAAALEgAACxIB0t1+/AAAADh0RVh0U29mdHdhcmUAbWF0cGxvdGxpYiB2ZXJzaW9uMy4yLjIsIGh0dHA6Ly9tYXRwbG90bGliLm9yZy+WH4yJAAAgAElEQVR4nO3debgcVZ3/8feHBJIACRAJCAkQVhGQRS6boCLCj2VUcBQNgjDAgDoZxV1AHXBFHVzAEZRFNhGMCIo6gBBHRGUxYYfAQyAsYUuiYMIqhO/vj3MuFJ2+XZ3cqr597/28nqef7jrVdc7p9Vt1lipFBGZmZq0sN9AVMDOz7udgYWZmpRwszMyslIOFmZmVcrAwM7NSDhZmZlbKwcIGDUkhaaNOb1vI46uSFkh6LC+/W9JDkp6StE1/8ralJ2ly/lxHDnRdhgMHC1uCpPslPZv/BB+TdLaklQe6XnWS9A5JN0h6WtLfJJ0vaVJh/TrAp4DNIuK1OflE4D8jYuWIuGkg6t0t8p/248U/bkkjJc2TVMlkrvy93L2KvGzpOVhYX94ZESsDWwPbAMd0quBO7ylKei/wU+AkYHVgc+B54E+SVstPWw/4W0TMK2y6HnBHJ+s60Eo+myeBvQvL+wBP1Fsj6xQHC2spIh4DriAFDQAk7SjpL5KelHSLpF0L68ZLOkvSI5KekPTLwrojJM2W9HdJl0pau7AuJE2VdA9wT077jKRHc16HFeslaZSkEyU9mPdofyhpTGF9n9s25CPg28BXI+L8iHg2v+Z/B54CPpH3Zq8E1s5HWxdIegoYAdwi6d6c19qSfiFpvqQ5kj5WKOd4SdMknStpkaQ7JPUU1n9O0sN53d2S3p7Tl5N0tKR78xHPNEnj87rRkn6S05+U9FdJa/bxOu+XdIykO/Pncpak0YX175B0c87nL5K2bNj2c5JuBZ5uETDOAw4uLB8MnNtQj7XzZ//3/F04op33SNJ5wLrAr/Nn8NlCtgfm78ECSZ/vo27WXxHhm2+vugH3A7vnx5OA24CT8vJE4G+kvcblgD3y8oS8/rfAz4DVgOWBt+b03YAFwBuBUcD3gT8WygzSH/J4YAywF/A4sAWwEmnPP4CN8vO/B1yanz8W+DVwQl7XctuG17ppXrd+k3VfAq7Nj3cF5jasL9ZnOWAm8F/ACsAGwH3Annn98cBz+X0bAZwAXJfXvQ54CFg7L08GNsyPPw5clz+HUcCPgAvyug/l171iznNbYFyLz/R2YJ38nv2ZFCDJn8k8YIeczyH5+aMK296ctx3TR/6R3+/HgVXzrfcziMLzrgZOAUaTdkDmA28ve48av5eF9ymA00nfma1IR4SvH+jf0FC8DXgFfOu+W/5RPgUsyj/G6cCqed3ngPMann9F/oNZC3gJWK1JnmcC3yosrwy8AEzOywHsVlj/Y+AbheVN8nM2AgQ83fuHmtfvBMwp27ZJvXbJ60Y3Wfdh4J78eFdaB4sdgAcb1h8DnJUfHw9cVVi3GfBsfrxR/rPeHVi+IY9ZvX+meXmt/L6NBA4D/gJs2eZn+uHC8j7AvfnxqcBXGp5/N68E+vuBw0ry7/1sziAFsQ/nP/GNyMGCFGwWA2ML250AnF32HhXq0SxYTCqk3QBMGejf0FC8uRnK+rJfRIwl/UluSmrLh9ROv39urnhS0pOkP9y1SH8Gf4+IZu3UawMP9C5ExFOkI5KJhec81PD84vIDhccTSHvTMwt1uDynl23baEG+X6vJurUK68usR2qmKr4vxwLFZqHHCo+fAUZLGhkRs0lHEMcD8yRdWGiiWw+4pJDnLNIf7pqkZp8rgAtzc9u3JC3foo6N70mxjE811H2dwvrGbVs5l9T8tEQTVM7v7xGxqKEexe9A0/eopMzGbYb0YIyB4mBhLUXE1cDZpJE/kP40zouIVQu3lSLiG3ndeEmrNsnqEdKfEgCSVgJeAzxcLK7w+FHSH1avdQuPFwDPApsX6rBKpA75sm0b3Q3MBfYvJkpaDngP6aiqHQ+RjmyK78vYiNinnY0j4qcRsQvpPQrgm4V8927Id3REPBwRL0TElyJiM+BNwDt4dZ9Bo8b35JFCGV9rKGPFiLigWMV2XgdwDSnIrgn8qWHdI6Tvx9iGejxMe3yK7AHkYGHt+B6wh6StgZ8A75S0p6QRuZN1V0mTIuJR4DLgFEmrSVpe0ltyHj8FDpW0taRRwNeB6yPi/j7KnAb8m6TNJK0IHNe7IiJeIjVxfFfSGgCSJkras2zbRpHaLj4NfEHSBySNkfRaUnPKOOC7bb5HNwALc0fwmPzebCFpu7INJb1O0m75fXmOFAgX59U/BL4mab383AmS9s2P3ybpDZJGAAtJzVOLlyzhZVMlTcod5MeS+pYgvZcflrSDkpUk/UvDn3pb8vv5TuBd+XFx3UOkZrMT8vdmS+Bw4Pw2s3+c1BdkA8DBwkpFxHxSk8IX8w9+X9KfzXzSXulneOW79EHSn9ZdpHb4j+c8pgNfBH5B2vPfEJjSoszLSEHq98DsfF/0uZx+naSFwFWkjuJ2tm0s62e53p8gHbXcSeow3Tki/tZq20Iei0l/klsDc3I+ZwCrtLH5KOAbeZvHgDVI7y+k4byXAr+TtIjU2b1DXvda4CJSoJhF6jz+SYtyfgr8jtTxfh/w1Vz3GcARwP+QhrrOBv6tjXo3FRF3RERfQ4oPIPU1PAJcAhwXEVe2mfUJpKD+pKRPL2v9bNmoIfib2RAk6X7g3yPiqoGuiw1OPrIwM7NSDhZmZlbKzVBmZlbKRxZmZlbKwcLMzEoN2fPAr7766jF58uSBroaZ2aAyc+bMBRExoTF9yAaLyZMnM2PGjIGuhpnZoCKp6elx3AxlZmalHCzMzKyUg4WZmZVysDAzs1IOFmZmVsrBwszMSjlYmJlZKQcLMzMrNWQn5fWHVH2ePl+jmQ1mPrIwM7NSDhZmZlbKwcLMzEo5WJiZWSl3cA+gqjvS3YluZnXxkYWZmZVysDAzs1IOFmZmVsp9FsOA+0bMrL98ZGFmZqV8ZGGV8ClSzIY2H1mYmVkpBwszMyvlYGFmZqUcLMzMrJQ7uG1QcUe62cBwsDBrolNByXNgbLBwM5SZmZXykYXZEOemO6uCjyzMzKyUg4WZmZVysDAzs1LuszCzSrhvZGjzkYWZmZXykYWZDSo+ghkYDhZmZk14wuSruRnKzMxKOViYmVmpWoOFpE9IukPS7ZIukDRa0nhJV0q6J9+vVnj+MZJmS7pb0p6F9G0l3ZbXnSzV0WppZmZ9qS1YSJoIfAzoiYgtgBHAFOBoYHpEbAxMz8tI2iyv3xzYCzhF0oic3anAkcDG+bZXXfU2M+skqdpbXepuhhoJjJE0ElgReATYFzgnrz8H2C8/3he4MCKej4g5wGxge0lrAeMi4tqICODcwjZmZtYBtQWLiHgYOBF4EHgU+EdE/A5YMyIezc95FFgjbzIReKiQxdycNjE/bkw3M7MOqbMZajXS0cL6wNrASpIOarVJk7Rokd6szCMlzZA0Y/78+UtbZTMz60OdzVC7A3MiYn5EvABcDLwJeDw3LZHv5+XnzwXWKWw/idRsNTc/bkxfQkScFhE9EdEzYcKESl+MmdlwVmeweBDYUdKKefTS24FZwKXAIfk5hwC/yo8vBaZIGiVpfVJH9g25qWqRpB1zPgcXtjEzsw6obQZ3RFwv6SLgRuBF4CbgNGBlYJqkw0kBZf/8/DskTQPuzM+fGhGLc3YfAc4GxgCX5ZuZmXWIYrDPQe9DT09PzJgxY5m2HWrXX+5EOYP1PRtq5Qyl1zLUyhnI3+fSkDQzInoa0z2D28zMSjlYmJlZKQcLMzMr5WBhZmalHCzMzKyUg4WZmZVysDAzs1IOFmZmVsrBwszMSjlYmJlZKQcLMzMr5WBhZmalHCzMzKyUg4WZmZVysDAzs1KlwULSzpJWyo8PkvQdSevVXzUzM+sW7RxZnAo8I2kr4LPAA8C5tdbKzMy6SjvB4sVIl9PbFzgpIk4CxtZbLTMz6ybtXIN7kaRjgA8Cb5Y0Ali+3mqZmVk3aefI4v3A88BhEfEYMBH471prZWZmXaU0WOQA8QtgVE5aAFxSZ6XMzKy7tDMa6gjgIuBHOWki8Ms6K2VmZt2lnWaoqcDOwEKAiLgHWKPOSpmZWXdpJ1g8HxH/7F2QNBKI+qpkZmbdpp1gcbWkY4ExkvYAfg78ut5qmZlZN2knWBwNzAduAz4E/C/whTorZWZm3aV0nkVEvAScDpwuaTwwKU/SMzOzYaKd0VB/kDQuB4qbgbMkfaf+qpmZWbdopxlqlYhYCPwrcFZEbAvsXm+1zMysm7QTLEZKWgt4H/CbmutjZmZdqJ1g8WXgCmB2RPxV0gbAPfVWy8zMukk7Hdw/Jw2X7V2+D3hPnZUyM7PuUhosJE0AjgAmF58fEYfVVy0zM+sm7Zyi/FfANcBVwOJ6q2NmZt2onWCxYkR8rvaamJlZ12qng/s3kvZZlswlrSrpIkl3SZolaSdJ4yVdKemefL9a4fnHSJot6W5JexbSt5V0W153siQtS33MzGzZtBMsjiIFjOckLZS0SNLCNvM/Cbg8IjYFtgJmkU4fMj0iNgam52UkbQZMATYH9gJOyVflg3Qd8COBjfNtrzbLNzOzCrRz8aOxEbFcRIyOiHF5eVzZdpLGAW8Bzsz5/DMiniRdy/uc/LRzgP3y432BCyPi+YiYA8wGts9zPMZFxLX5NCPnFrYxM7MOaOd0H5J0kKQv5uV1JG3fRt4bkE5AeJakmySdIWklYM2IeBQg3/deG2Mi8FBh+7k5bWJ+3JjerK5HSpohacb8+fPbqKKZmbWjnWaoU4CdgA/k5aeAH7Sx3UjgjcCpEbEN8DS5yakPzfohokX6kokRp0VET0T0TJgwoY0qmplZO9oJFjtExFTgOYCIeAJYoY3t5gJzI+L6vHwRKXg8npuWyPfzCs9fp7D9JOCRnD6pSbqZmXVIO8HihdzRHPDyJL2XyjaKiMeAhyS9Lie9HbgTuBQ4JKcdQprHQU6fImmUpPVJHdk35KaqRZJ2zKOgDi5sY2ZmHdDOPIuTgUuANSR9DXgv7V/86KPA+ZJWAO4DDiUFqGmSDgceBPYHiIg7JE0jBZQXgakR0TsJ8CPA2cAY4LJ8MzOzDlFf1zGStH4elYSkTUlHBiINe53VuSoum56enpgxY8YybVvHLI5mb3PV5fR1SapOlDNY37OhVs5Qei1DrZyB/H0uDUkzI6KnMb3VkcVFwLaSpkfE24G7+lcFMzMbrFoFi+UkHQdsIumTjSsjwlfLMzMbJlp1cE8hjYAaCYxtcjMzs2Gi1ZHFXhHxTUmjIuLLHauRmZl1nVZHFofme59aw8xsmGt1ZDFL0v3ABEm3FtIFRERsWWvNzMysa/QZLCLiAEmvJV1/+12dq5KZmXWblpPyIuIxSTsAG5FmcN8bEc91pGZmZtY1+uyzkDRS0rdIZ4I9B/gJ6fQd35K0fKcqaGZmA69VB/d/A+OBDSJi23zm2A2BVYETO1E5MzPrDq2CxTuAIyJiUW9CRCwknadpmS6zamZmg1OrYBHR5MRR+eR+/Tz7iJmZDSatgsWdkg5uTJR0ED5PlJnZsNJqNNRU4GJJhwEzSUcT25FOE/7uDtTNzMy6RKt5Fg8DO0jaDdicNBnvsoiY3qnKmZlZdyi9+FFE/B74fQfqYmZmXaqdy6qamdkw52BhZmalHCzMzKxUn30WkhbRYj5FRIyrpUZmZtZ1Wo2GGgsg6cvAY8B5pBFRB+Ir5ZmZDSvtNEPtGRGnRMSiiFgYEacC76m7YmZm1j3aCRaLJR0oaYSk5SQdCCyuu2JmZtY92gkWHwDeBzyeb/vnNDMzGybamZR3P7Bv/VUxM7NuVXpkIWkTSdMl3Z6Xt5T0hfqrZmZm3aKdZqjTgWOAFwAi4lZgSp2VMjOz7tJOsFgxIm5oSHuxjsqYmVl3aidYLJC0IXmCnqT3Ao/WWiszM+sqpR3cpOtanAZsKulhYA5wUK21MjOzrtLOaKj7gN0lrQQsV7wmt5mZDQ+tzg31yT7SAYiI79RUJzMz6zKtjix6z//0OtLlVC/Ny+8E/lhnpczMrLu0OpHglwAk/Q54Y2/zk6TjgZ93pHZmZtYV2hkNtS7wz8LyP4HJ7RaQzyl1k6Tf5OXxkq6UdE++X63w3GMkzZZ0t6Q9C+nbSrotrztZvW1hZmbWEe0Ei/OAGyQdL+k44HrgnKUo4yhgVmH5aGB6RGwMTM/LSNqMNNlvc2Av4BRJI/I2pwJHAhvn215LUb6ZmfVTy2CR9+DPBQ4FngCeBA6NiBPayVzSJOBfgDMKyfvySrA5B9ivkH5hRDwfEXOA2cD2ktYCxkXEtRERuT77YWZmHdNy6GxEhKRfRsS2wI3LkP/3gM/y6oslrRkRj+b8H5W0Rk6fCFxXeN7cnPZCftyYbmZmHdJOM9R1krZb2owlvQOYFxEz292kSVq0SG9W5pGSZkiaMX/+/DaLNTOzMu3M4H4b8GFJ9wNPk/68IyK2LNluZ+BdkvYBRgPjJP0EeFzSWvmoYi1gXn7+XGCdwvaTgEdy+qQm6UuIiNNIs83p6enp8/rhZma2dNo5stgb2ADYjTTH4h35vqWIOCYiJkXEZFLH9e8j4iDSfI1D8tMOAX6VH18KTJE0StL6pI7sG3KT1SJJO+Y+lIML25iZWQe0c7qPByRtBbw5J10TEbf0o8xvANMkHQ48SLryHhFxh6RpwJ2ks9pOjYjey7d+BDgbGANclm9mZtYhSgOMWjxBOgo4Arg4J70bOC0ivl9z3fqlp6cnZsyYsUzb1jGLo9nbXHU5fX2UnShnsL5nQ62cofRahlo5A/n7XBqSZkZET2N6O30WhwM7RMTTOaNvAtcCXR0szMysOu30WQhYXFheTPMRSmZmNkS1c2RxFnC9pEvy8n7AmfVVyczMuk07HdzfkfQHYBfSEcWhEXFT3RUzM7PuURosJO0I3BERN+blsZJ2iIjra6+dmZl1hXb6LE4FniosP53TzMxsmGirgzsK42sj4iXa6+swM7Mhop1gcZ+kj0laPt+OAu6ru2JmZtY92gkWHwbeBDxMOk/TDqRrS5iZ2TDRzmioeaRzO5mZ2TBVemQhaRNJ0yXdnpe3lPSF+qtmZmbdop1mqNOBY0gXISIibsVHGmZmw0o7wWLFiLihIe3FOipjZmbdqZ1gsUDShuSr00l6L/BorbUyM7Ou0s58iamkq89tKulhYA5wYK21MjOzrtLOaKj7gN0lrUQ6EnkWeD/wQM11MzOzLtFnM5SkcZKOkfQ/kvYAniFdBnU28L5OVdDMzAZeqyOL84AnSBc6OgL4LLACsF9E3NyBupmZWZdoFSw2iIg3AEg6A1gArBsRizpSMzMz6xqtRkO90PsgIhYDcxwozMyGp1ZHFltJWpgfCxiTlwVERIyrvXZmZtYV+gwWETGikxUxM7Pu1c6kPDMzG+YcLMzMrJSDhZmZlXKwMDOzUg4WZmZWysHCzMxKOViYmVkpBwszMyvlYGFmZqUcLMzMrJSDhZmZlXKwMDOzUg4WZmZWqrZgIWkdSf8naZakOyQdldPHS7pS0j35frXCNsdImi3pbkl7FtK3lXRbXneyJNVVbzMzW1KdRxYvAp+KiNcDOwJTJW0GHA1Mj4iNgel5mbxuCrA5sBdwiqTe06SfChwJbJxve9VYbzMza1BbsIiIRyPixvx4ETALmAjsC5yTn3YOsF9+vC9wYUQ8HxFzgNnA9pLWAsZFxLUREcC5hW3MzKwDOtJnIWkysA1wPbBmRDwKKaAAa+SnTQQeKmw2N6dNzI8b083MrENqDxaSVgZ+AXw8Iha2emqTtGiR3qysIyXNkDRj/vz5S19ZMzNrqtZgIWl5UqA4PyIuzsmP56Yl8v28nD4XWKew+STgkZw+qUn6EiLitIjoiYieCRMmVPdCzMyGuTpHQwk4E5gVEd8prLoUOCQ/PgT4VSF9iqRRktYndWTfkJuqFknaMed5cGEbMzPrgJE15r0z8EHgNkk357RjgW8A0yQdDjwI7A8QEXdImgbcSRpJNTUiFuftPgKcDYwBLss3MzPrEKUBRkNPT09PzJgxY5m2rWMWR7O3uepy+vooO1HOYH3Phlo5Q+m1DLVyBvL3uTQkzYyInsZ0z+A2M7NSDhZmZlbKwcLMzEo5WJiZWSkHCzMzK+VgYWZmpRwszMyslIOFmZmVcrAwM7NSDhZmZlbKwcLMzEo5WJiZWSkHCzMzK+VgYWZmpRwszMyslIOFmZmVcrAwM7NSDhZmZlbKwcLMzEo5WJiZWSkHCzMzK+VgYWZmpRwszMyslIOFmZmVcrAwM7NSDhZmZlbKwcLMzEo5WJiZWSkHCzMzK+VgYWZmpRwszMyslIOFmZmVcrAwM7NSDhZmZlbKwcLMzEoNmmAhaS9Jd0uaLenoga6PmdlwMiiChaQRwA+AvYHNgAMkbTawtTIzGz4GRbAAtgdmR8R9EfFP4EJg3wGuk5nZsDFyoCvQponAQ4XlucAOjU+SdCRwZF58StLdNddrdWBBO0+U6i+nn2UMtXK66rPpVDmD5LPpVDn+bJbNes0SB0uwaPbyY4mEiNOA0+qvTiJpRkT0uJzuK2covRaX071lDMVy+jJYmqHmAusUlicBjwxQXczMhp3BEiz+CmwsaX1JKwBTgEsHuE5mZsPGoGiGiogXJf0ncAUwAvhxRNwxwNWCzjV5uZzuLMPldHc5Q+m1dLKcphSxRNO/mZnZqwyWZigzMxtADhZmZlbKwcLMbClJGiPpdQNdj05ysOhCkkZJ+oCkYyX9V+9toOvVH/mULXWXsUXdZXSSpJ3bSet2kk6UtPlA16Mqkt4J3Axcnpe3llTr6ExJ4ySNrbOMMoNiNFQ3kTQ9It5eltZPvwL+AcwEnq8w3yVI+jrwrYh4Mi+vBnwqIr5QcVFzJF0O/Az4fdQzsuKHeWj12cBPe19TlST9miUnhP4DmAH8KCKeq7C47wNvbCOtXyRNAI4AJlP4T4iIwyoq4i7gNEkjgbOACyLiHxXljaTxrdZHxN+rKis7nnQKoj/k/G+WNLniMgCQ1EN6z8amRT0JHBYRM+sorxUHizZJGg2sCKye/1B7Z5WPA9auuLhJEbFXxXn2Ze+IOLZ3ISKekLQPUHWweB3wTmAqcKak3wAXRsSfqiogInaRtDFwGDBD0g3AWRFxZVVlAPcBE4AL8vL7gceBTYDTgQ/2twBJOwFvAiZI+mRh1TjS0PGq/Qq4BrgKWFx15hFxBnBGbrY5FLhV0p+B0yPi/yooYiYpgPd1pocNKiij6MWI+IcqOK9GG34M/EdEXAMgaRdS8NiyE4UXOVi070PAx0mBYSavfDEXks6IW6W/SHpDRNxWcb7NjJA0KiKeh9QWC4yqupCIeBaYBkzLwfYk4Goq/vOLiHskfYG0p38ysI3Sr/rYiLi4giK2iYi3FJZ/LemPEfEWSVXN/VkBWJn0+yw2PSwE3ltRGUUrRsTnasj3ZbkZctN8WwDcAnxS0ociYkp/8o6I9Suo4tK4XdIHSL+djYGPAX+pqaxFvYECICL+JGlRTWW15HkWS0nSRyPi+zWXcSewETCH1AwlICKi8r0JSZ8F3kXaWwnSXvmlEfGtGsp6K2lPfG/SrPyfRcQvKsx/S9Ke678AVwJnRsSNktYGro2IpidIW8oyZgF7RsSDeXld4PKI2EzSTRGxTX/LKJS1XkQ8IGkc6fOv5U9C0leBv0TE/9aU/3dI37HppM/khsK6uyOiXx3FkjaNiLskNW2ei4gb+5N/k/JWBD4P/D/Sb/MK4CtVNkEWXssHSS0aF5B+n+8HnoiIz1dVVtt1crBYOpKmAuc3tPEfEBGnVFhG0z+1iHigqjIaytsL2J30xf9dRFxRQxlzSJ2C00jB6OkayvgjqSnoonwkU1z3wYg4r4Iy9gF+CNxLer/WB/6D1H59RER8r79lFMoqtldD6huprL0676H2Nt+sRNoxeYFXdk7GVVTOYaQmx2earFulv/0Xkk6LiCMlNWvSiojYrT/5D4Q+XkuvAXlNDhZLSdLNEbF1Q1qle5SFfNcARvcu9+7N1lDOesDGEXFV3msaUfVerKRxEbGwyjwHiqRRpOYUAXdV3KldLOdWYGpDe/UpdRxh1qGvPf1eVe7xS1oO2Cki/lxVni3K2gT4NEsOCBh0QWlpuM9i6S0nSb2jeXJb7ApVFiDpXcC3Sf0j80jnl58FVD78UNIRpGuAjAc2JF075IdAlaO7AMZJOgfYmbQ3+yfgqIiYW1UBuf34BNLVFItBtrIOTkkHNyRtKYmIOLeqMgo60l4t6d2kEWr/yMurArtGxC/7mfW3W6wLoLI/14h4SdKJwE5V5dnCz0m/kTOoYUBAkaQ1ga8Da0fE3kpXCN0pIs6ss9ymdfGRxdLJX8j1SF+WAD4CPBgRn6qwjFtIP6SrImIbSW8jNXUdWbLpspR1M2kY4PW9R0eSbouIN1RczpXAT4HepqCDgAMjYo8Ky/gTcBzwXdLIq0NJ3/HjKiyj2F81mhRUb4yIyjueJX2XJu3VwC+guj3zTh4t10nSl4BbgYtrGprdW87MiNi2rvwbyrqM1BT5+YjYKg8/vqnq32dbdXGwWDp5tNARwJvJbfykTrvK9jCUL3KSg8Y2ea/phojYvqoyCmVdHxE79P455C/jjVU3dfTxh7REWj/LmBkR2xaDnaRrIuLNVZXRpMxVgPMi4l015N2RdmtJtzZ+3lXuMDQ5GgOo/GgsH3WtRNrbf5aK+14K5RxPOuK/hMI8qKh+PgeS/hoR2xWDd9W/m3a5GapN+U/066S91YdIX8R1SCOWlqPaw9EnJa1MGvt+vqR5wIsV5l90taRjgTGS9iB11v66hnIWSDqIV+YnHAD8reIynstt1/condL+YWCNisto9AxpjkXlIuJtdeTbxIw8YukHpCOYj5KGh1dlu8Ljl4/GgEqDRUR0aobzIfn+M8XiqX4+B8DTkl6T80fSjqSBDh3nI4s25SaBscAnejt/labffxt4NiKOqrCsFYHnSAHpINJkrPNr2nNZDjicVw8DPKPqw/g8xPR/SMf/vrkAAAZ1SURBVG3KQRqXflSVI7wkbUfq21kV+AqwCml2+nUVllGcwT0CeD0wLSKOrqqMQlkdaa+WtBLwRdKIOEhHy1+rY8RaLq/Oo7F/BXYhfUbXVNDvMqDyIIHvA1sAt5MmhL43Im7teF0cLNoj6R5gk8Y/0dzBfVdEbFxBGb1DGV+VnO+fIw3X/HxETO9vWQ3lTgCIiPlV5jsU5bkivV4kfT4HRMTUGsqqvb06f3+viIjdS59cXZnLA7dGxOsrzvcU0vyk4uz6e6v+bDrRrCZp3XhlLs9I0hkQBNwdES9UVc7ScDNU+6LZ3nZELJZUScRtdRidf9RbAOfn+36RJFJn8H+SvoSStBj4fkR8ub/5F8ppdQLEiIivVFBGy5O4VbkHGxFXS9oa+ADwPlIzZGUTCxusHhHTJB2Ty34xf0aVyd/fZ6qY79CXJkdjm5Hm21TtrcAWhZGK5wB1nAWhE81qv+SVc4D9LCLeU2Hey8TBon13Sjq4ce8ht8PfVXfhuQP9lobROP3xcdIw1u0iYg6ApA2AUyV9IiK+W1E5zZoyViI1fb2G1FzUXzuR+pEuAK6HpucI6pc8tn4Kr/S1/Ix0ZF5nv0Kn2qufA27LI9Ze/rwi4mMV5X8irwSLF4EHIuLhivIuuhtYF+ht2lyHNDqqUhHx0eJyb7NaxcUUv8N19IUsNTdDtUnSROBi0iiL3hOXbQeMAd5d05e/NpJuAvaIiAUN6RNIs7jrmGQ4FjiKFCimAd+OiHkV5DsC2IP0R74l8FvSmU0ru067pJdIAw4Oj4jZOe2+KudwNCmzI+3Vkg5plh4R5/Qz3+IM8VdlTRpFVGmzqqSrSb/J3tOJbAdcSxqEUOkRZkO5lTerSboxIt7Y+Hgg+ciiTTkY7CBpN9LkOAGXVd1/0EHLNwYKSP0W+ctfGaVTSH8SOBA4B3hjRDxRVf75qOty4HKl2dUHAH+Q9OWo7jxe7yEdWfyf0qnWL6SGIxh4uaP+oUjntXor6SSW7yF1PFc2ibFXf4NCi3w71qyaFZs8ReroPoA0wq8yHWpW20rSQtLrGJMfQ03DgdvhI4thqtXeSpV7MpL+G/hX4DTgBxHxVBX5NilnFOkEggeQTsNwKfDjqo/48sih/XI5u5GC3yUR8bsKy7gR2D0i/i7pLaTA9FFga+D1VU8AVAdmvrco+0MR8aMK82vsT7q4wh2G3jLeSmea1bqKg8UwlTtKm/UnCBgdEZUcXeTmm+dJP6ril62yPaTckbkFcBnphHW39zfPNssdD+wPvL+qCXI531siYqv8+AfA/Ig4Pi9XPiFLHZj5Xqc++pM+HRWcZbihnI42q3UbBwsb9HJA6g18tQSkTpJ0O7B1Hv10F3BkRPyxd11EVHr52IGY+V6lgehPalKHl5vVqv58uoX7LGzQi4ihdi35C0gz6xeQBlT0nnV2I2oaDTUAM9+r1LH+pL7UMFqx6/jIwqwL5WGya5FGpj2d0zYBVo7qL+ZT+8z3TuhEf9Jw5mBhZkNOXf1Jw5mDhdkw1cmZ7zb4uc/CbPiqfea7DR0+sjAbpjox892GjqE2isTM2hQRiyPi8og4BNgRmE2a+f7Rkk1tGHIzlNkw1mTm+8mkc6CZvYqbocyGqYGa+W6Dk4OF2TA11Ga+W70cLMzMrJQ7uM3MrJSDhZmZlXKwMFsGkkLSeYXlkZLmS/rNMua3qqT/KCzvuqx5mdXBwcJs2TwNbCFpTF7eg3S21mW1KhVf0c2sSg4WZsvuMtIcBUjzFC7oXSFpvKRfSrpV0nWStszpx0v6saQ/SLpP0sfyJt8ANpR0c766IMDKki6SdJek8yX5dBw2YBwszJbdhcAUSaNJp8u4vrDuS8BNEbElcCxwbmHdpsCewPbAcfma50cD90bE1hHxmfy8bYCPky53ugGwc50vxqwVBwuzZRQRt5JmPR8A/G/D6l2A8/Lzfg+8RtIqed1vI+L5iFgAzAPW7KOIGyJibkS8BNycyzIbED7dh1n/XAqcCOwKvKaQ3qzJqHdS0/OFtMX0/Tts93lmtfORhVn//Bj4ckTc1pD+R+BASCObgAURsbBFPouAsbXU0KwC3lMx64eImAuc1GTV8cBZkm4FngEOKcnnb5L+LOl2Usf5b6uuq1l/+HQfZmZWys1QZmZWysHCzMxKOViYmVkpBwszMyvlYGFmZqUcLMzMrJSDhZmZlXKwMDOzUv8fSsTWGDRS7AMAAAAASUVORK5CYII=\n",
      "text/plain": [
       "<Figure size 432x288 with 1 Axes>"
      ]
     },
     "metadata": {
      "needs_background": "light"
     },
     "output_type": "display_data"
    }
   ],
   "source": [
    "crime = month_datagrouped['Category']\n",
    "month = ['Oct','Jan','Dec','Nov','May','Aug','Sept','March','July','April','June','Feb']\n",
    "x = np.arange(len(month))\n",
    "plt.bar(x, crime, color=\"b\", align=\"center\")\n",
    "tick_locations = [value for value in x]\n",
    "plt.xticks(tick_locations, month, rotation='vertical')\n",
    "plt.xlabel('Month')\n",
    "plt.ylabel('Recorded Offenses')\n",
    "plt.title('Recorded Offenses per Month')"
   ]
  },
  {
   "cell_type": "markdown",
   "metadata": {},
   "source": [
    "Visualizing how criminal offenses are distributed by weekday:"
   ]
  },
  {
   "cell_type": "code",
   "execution_count": 4,
   "metadata": {},
   "outputs": [],
   "source": [
    "day_data = sfpd_clean[['DayOfWeek','Category']]\n",
    "day_datagroup = day_data.groupby(['DayOfWeek']).count()\n",
    "day_datagroup = day_datagroup.sort_values('Category', ascending=False)"
   ]
  },
  {
   "cell_type": "code",
   "execution_count": 11,
   "metadata": {},
   "outputs": [
    {
     "data": {
      "text/plain": [
       "Text(0.5, 1.0, 'Recorded Offenses per Day of the Week')"
      ]
     },
     "execution_count": 11,
     "metadata": {},
     "output_type": "execute_result"
    },
    {
     "data": {
      "image/png": "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\n",
      "text/plain": [
       "<Figure size 432x288 with 1 Axes>"
      ]
     },
     "metadata": {
      "needs_background": "light"
     },
     "output_type": "display_data"
    }
   ],
   "source": [
    "crime = day_datagroup['Category']\n",
    "day = ['Friday','Saturday','Thursday','Wednesday','Tuesday','Monday','Sunday']\n",
    "x_axis = np.arange(len(day))\n",
    "plt.bar(x_axis, crime, color=\"b\", align=\"center\")\n",
    "tick_locations = [value for value in x_axis]\n",
    "plt.xticks(tick_locations, day, rotation= 70)\n",
    "plt.xlabel('Day of the Week')\n",
    "plt.ylabel('Recorded Offenses')\n",
    "plt.title('Recorded Offenses per Day of the Week')"
   ]
  },
  {
   "cell_type": "markdown",
   "metadata": {},
   "source": [
    "Are certain crimes more frequent at certain times of day?"
   ]
  },
  {
   "cell_type": "code",
   "execution_count": 6,
   "metadata": {},
   "outputs": [],
   "source": [
    "#insert charts showing categories of crime per time of day"
   ]
  },
  {
   "cell_type": "markdown",
   "metadata": {},
   "source": [
    "How frequently is action taken and a crime 'resolved'?"
   "execution_count": 21,
   "metadata": {},
   "outputs": [],
   "source": [
    "morning_crime = sf_crime.loc[sf_crime[\"Time of Day\"]== \"Morning\"]\n",
    "middle_crime = sf_crime.loc[sf_crime[\"Time of Day\"]== \"Middle\"]\n",
    "night_crime = sf_crime.loc[sf_crime[\"Time of Day\"]== \"Night\"]"
   ]
  },
  {
   "cell_type": "code",
   "execution_count": 7,
   "metadata": {},
   "outputs": [
    {
     "data": {
      "text/plain": [
       "NONE                                      83160\n",
       "ARREST, BOOKED                            20049\n",
       "UNFOUNDED                                   817\n",
       "JUVENILE BOOKED                             597\n",
       "EXCEPTIONAL CLEARANCE                       200\n",
       "CLEARED-CONTACT JUVENILE FOR MORE INFO       41\n",
       "ARREST, CITED                                26\n",
       "LOCATED                                      18\n",
       "NOT PROSECUTED                               13\n",
       "PSYCHOPATHIC CASE                             5\n",
       "COMPLAINANT REFUSES TO PROSECUTE              2\n",
       "Name: Resolution, dtype: int64"
      ]
     },
     "execution_count": 7,
       "LARCENY/THEFT                  4794\n",
       "ASSAULT                        2832\n",
       "VANDALISM                      1733\n",
       "BURGLARY                       1510\n",
       "SUSPICIOUS OCC                 1122\n",
       "VEHICLE THEFT                   976\n",
       "MISSING PERSON                  813\n",
       "ROBBERY                         799\n",
       "DRUG/NARCOTIC                   749\n",
       "TRESPASS                        647\n",
       "DISORDERLY CONDUCT              367\n",
       "FRAUD                           317\n",
       "WEAPON LAWS                     296\n",
       "SEX OFFENSES, FORCIBLE          248\n",
       "STOLEN PROPERTY                 191\n",
       "RECOVERED VEHICLE               166\n",
       "ARSON                           130\n",
       "DRUNKENNESS                     118\n",
       "DRIVING UNDER THE INFLUENCE     104\n",
       "FORGERY/COUNTERFEITING           63\n",
       "KIDNAPPING                       57\n",
       "PROSTITUTION                     36\n",
       "RUNAWAY                          26\n",
       "LIQUOR LAWS                      21\n",
       "EMBEZZLEMENT                     14\n",
       "SEX OFFENSES, NON FORCIBLE        2\n",
       "Name: Category, dtype: int64"
      ]
     },
     "execution_count": 31,
     "metadata": {},
     "output_type": "execute_result"
    }
   ],
   "source": [
    "sf_crime_res_df = sfpd_clean.loc[ :, [\"Category\", \"Resolution\"]]\n",
    "sf_crime_res_df.head()\n",
    "sf_crime_res_df[\"Resolution\"].value_counts().head(15)"
   ]
  },
  {
   "cell_type": "code",
   "execution_count": 8,
   "metadata": {},
   "outputs": [
    {
     "data": {
      "image/png": "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\n",
      "text/plain": [
       "<Figure size 576x360 with 1 Axes>"
      ]
     },
     "metadata": {
      "needs_background": "light"
     },
     "output_type": "display_data"
    }
   ],
   "source": [
    "resolution_per_crime = sfpd_clean.groupby([\"Category\"]).count()[\"Resolution\"]\n",
    "plot_pandas = pd.DataFrame(resolution_per_crime)\n",
    "plot_pandas = resolution_per_crime.plot.bar(figsize=(8,5), color='b',fontsize = 14)\n",
    "plt.xlabel(\"Category\",fontsize = 15),plt.ylabel(\"Resolution\",fontsize = 12),plt.title(\"Resolutions Per Category of Crime\",fontsize = 14)\n",
    "plt.savefig('bar_plot1')\n",
    "plt.show()"
   ]
  },
  {
   "cell_type": "markdown",
   "metadata": {},
   "source": [
    "Do certain crimes appear more frequently at different times of day?"
   ]
  },
  {
   "cell_type": "code",
   "execution_count": 9,
   "metadata": {},
   "outputs": [],
   "source": [
    "#insert bar chart demostrating categories of crime by time of day"
   ]
  },
  {
   "cell_type": "markdown",
   "metadata": {},
   "source": [
    "How many incidents involve more than one offense? To avoid inflating representation of criminal activity as we analyze further, we find how many incidents involve more than one offense:"
   ]
  },
  {
   "cell_type": "code",
   "execution_count": 10,
   "metadata": {},
   "outputs": [
    {
     "name": "stdout",
     "output_type": "stream",
     "text": [
      "There were 13630 individual incidents that involved more than one offense. A seperate dataframe with the\n"
     ]
    }
   ],
   "source": [
    "incident_df = sfpd_clean[['IncidntNum', 'Category']]\n",
    "groupedincidents = incident_df.groupby(['IncidntNum']).count()\n",
    "multoffense = groupedincidents.loc[groupedincidents['Category']>1]\n",
    "multiple = multoffense['Category'].count()\n",
    "print(f'There were {multiple} individual incidents that involved more than one offense. A seperate dataframe with the')"
    "morning_crime[\"Category\"].value_counts()"
   ]
  },
  {
   "cell_type": "code",
   "execution_count": 32,
   "metadata": {
    "scrolled": false
   },
   "outputs": [
    {
     "data": {
      "text/plain": [
       "LARCENY/THEFT                  18967\n",
       "ASSAULT                         5851\n",
       "VANDALISM                       3148\n",
       "SUSPICIOUS OCC                  2764\n",
       "VEHICLE THEFT                   2331\n",
       "MISSING PERSON                  2325\n",
       "DRUG/NARCOTIC                   2293\n",
       "BURGLARY                        2202\n",
       "FRAUD                           1422\n",
       "ROBBERY                         1136\n",
       "TRESPASS                         777\n",
       "WEAPON LAWS                      733\n",
       "STOLEN PROPERTY                  394\n",
       "RECOVERED VEHICLE                390\n",
       "FORGERY/COUNTERFEITING           370\n",
       "SEX OFFENSES, FORCIBLE           332\n",
       "PROSTITUTION                     315\n",
       "DISORDERLY CONDUCT               187\n",
       "DRUNKENNESS                      157\n",
       "KIDNAPPING                       108\n",
       "EMBEZZLEMENT                      95\n",
       "LIQUOR LAWS                       84\n",
       "DRIVING UNDER THE INFLUENCE       82\n",
       "ARSON                             74\n",
       "RUNAWAY                           73\n",
       "SEX OFFENSES, NON FORCIBLE        23\n",
       "Name: Category, dtype: int64"
      ]
     },
     "execution_count": 32,
     "metadata": {},
     "output_type": "execute_result"
    }
   ],
   "source": [
    "middle_crime[\"Category\"].value_counts()"
   ]
  },
  {
   "cell_type": "code",
   "execution_count": 33,
   "metadata": {},
   "outputs": [
    {
     "data": {
      "text/plain": [
       "LARCENY/THEFT                  15256\n",
       "ASSAULT                         4234\n",
       "VANDALISM                       3351\n",
       "VEHICLE THEFT                   2890\n",
       "BURGLARY                        1856\n",
       "SUSPICIOUS OCC                  1554\n",
       "ROBBERY                         1197\n",
       "DRUG/NARCOTIC                   1070\n",
       "MISSING PERSON                  1059\n",
       "FRAUD                            568\n",
       "WEAPON LAWS                      542\n",
       "TRESPASS                         339\n",
       "STOLEN PROPERTY                  265\n",
       "SEX OFFENSES, FORCIBLE           263\n",
       "PROSTITUTION                     255\n",
       "DRUNKENNESS                      157\n",
       "DRIVING UNDER THE INFLUENCE      151\n",
       "RECOVERED VEHICLE                148\n",
       "FORGERY/COUNTERFEITING            91\n",
       "DISORDERLY CONDUCT                82\n",
       "KIDNAPPING                        80\n",
       "ARSON                             67\n",
       "LIQUOR LAWS                       49\n",
       "RUNAWAY                           38\n",
       "EMBEZZLEMENT                      29\n",
       "SEX OFFENSES, NON FORCIBLE        10\n",
       "Name: Category, dtype: int64"
      ]
     },
     "execution_count": 33,
     "metadata": {},
     "output_type": "execute_result"
    }
   ],
   "source": [
    "night_crime[\"Category\"].value_counts()"
   ]
  },
  {
   "cell_type": "code",
   "execution_count": 30,
   "metadata": {},
   "outputs": [
    {
     "data": {
      "image/png": "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\n",
      "text/plain": [
       "<Figure size 432x288 with 1 Axes>"
      ]
     },
     "metadata": {
      "needs_background": "light"
     },
     "output_type": "display_data"
    }
   ],
   "source": [
    "# Morning\n",
    "x_axis = morning_crime[\"Category\"]\n",
    "crime_count = morning_crime[\"IncidntNum\"]\n",
    "plt.bar(x_axis, crime_count, color='r', alpha=.5, align=\"center\")\n",
    "plt.xticks(rotation = \"vertical\")\n",
    "plt.title(\"Morning Crime\")\n",
    "plt.xlabel(\"Crime Category\")\n",
    "plt.ylabel(\"Frequency\")\n",
    "plt.show()"
   ]
  },
  {
   "cell_type": "code",
   "execution_count": 36,
   "metadata": {},
   "outputs": [
    {
     "data": {
      "image/png": "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\n",
      "text/plain": [
       "<Figure size 432x288 with 1 Axes>"
      ]
     },
     "metadata": {
      "needs_background": "light"
     },
     "output_type": "display_data"
    }
   ],
   "source": [
    "# Middle\n",
    "x_axis = middle_crime[\"Category\"]\n",
    "crime_count = middle_crime[\"IncidntNum\"]\n",
    "plt.bar(x_axis, crime_count, color='r', alpha=.5, align=\"center\")\n",
    "plt.xticks(rotation = \"vertical\")\n",
    "plt.title(\"Morning Crime\")\n",
    "plt.xlabel(\"Crime Category\")\n",
    "plt.ylabel(\"Frequency\")\n",
    "plt.show()"
   ]
  },
  {
   "cell_type": "code",
   "execution_count": 35,
   "metadata": {},
   "outputs": [
    {
     "data": {
      "image/png": "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\n",
      "text/plain": [
       "<Figure size 432x288 with 1 Axes>"
      ]
     },
     "metadata": {
      "needs_background": "light"
     },
     "output_type": "display_data"
    }
   ],
   "source": [
    "# Night\n",
    "x_axis = night_crime[\"Category\"]\n",
    "crime_count = night_crime[\"IncidntNum\"]\n",
    "plt.bar(x_axis, crime_count, color='r', alpha=.5, align=\"center\")\n",
    "plt.xticks(rotation = \"vertical\")\n",
    "plt.title(\"Morning Crime\")\n",
    "plt.xlabel(\"Crime Category\")\n",
    "plt.ylabel(\"Frequency\")\n",
    "plt.show()"
   ]
  },
  {
   "cell_type": "code",
   "execution_count": null,
   "metadata": {},
   "outputs": [],
   "source": []
  }
 ],
 "metadata": {
  "kernelspec": {
   "display_name": "Python 3",
   "language": "python",
   "name": "python3"
  },
  "language_info": {
   "codemirror_mode": {
    "name": "ipython",
    "version": 3
   },
   "file_extension": ".py",
   "mimetype": "text/x-python",
   "name": "python",
   "nbconvert_exporter": "python",
   "pygments_lexer": "ipython3",
   "version": "3.7.6"
  }
 },
 "nbformat": 4,
 "nbformat_minor": 4
}
