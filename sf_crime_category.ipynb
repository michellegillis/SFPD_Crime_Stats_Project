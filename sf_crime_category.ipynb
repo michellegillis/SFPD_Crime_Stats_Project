{
 "cells": [
  {
   "cell_type": "markdown",
   "metadata": {},
   "source": [
    "Importing and cleaning data. We are dropping all non-criminal listings as well as offenses with under 300 occurances, as many of these either involve little to no threat to the general public or occur in extremely minimal numbers. The category of 'other offenses' was also dropped as it encompasses such a wide array of descriptions and poses difficulty in properly categorizing."
   ]
  },
  {
   "cell_type": "code",
   "execution_count": 12,
   "metadata": {},
   "outputs": [
    {
     "data": {
      "text/html": [
       "<div>\n",
       "<style scoped>\n",
       "    .dataframe tbody tr th:only-of-type {\n",
       "        vertical-align: middle;\n",
       "    }\n",
       "\n",
       "    .dataframe tbody tr th {\n",
       "        vertical-align: top;\n",
       "    }\n",
       "\n",
       "    .dataframe thead th {\n",
       "        text-align: right;\n",
       "    }\n",
       "</style>\n",
       "<table border=\"1\" class=\"dataframe\">\n",
       "  <thead>\n",
       "    <tr style=\"text-align: right;\">\n",
       "      <th></th>\n",
       "      <th>IncidntNum</th>\n",
       "      <th>Category</th>\n",
       "      <th>Descript</th>\n",
       "      <th>DayOfWeek</th>\n",
       "      <th>Date</th>\n",
       "      <th>Time</th>\n",
       "      <th>PdDistrict</th>\n",
       "      <th>Resolution</th>\n",
       "      <th>Address</th>\n",
       "      <th>X</th>\n",
       "      <th>Y</th>\n",
       "      <th>Location</th>\n",
       "      <th>Month</th>\n",
       "    </tr>\n",
       "  </thead>\n",
       "  <tbody>\n",
       "    <tr>\n",
       "      <th>0</th>\n",
       "      <td>120058272</td>\n",
       "      <td>WEAPON LAWS</td>\n",
       "      <td>POSS OF PROHIBITED WEAPON</td>\n",
       "      <td>Friday</td>\n",
       "      <td>01/29/2016 12:00:00 AM</td>\n",
       "      <td>11:00</td>\n",
       "      <td>SOUTHERN</td>\n",
       "      <td>ARREST, BOOKED</td>\n",
       "      <td>800 Block of BRYANT ST</td>\n",
       "      <td>-122.403405</td>\n",
       "      <td>37.775421</td>\n",
       "      <td>(37.775420706711, -122.403404791479)</td>\n",
       "      <td>01</td>\n",
       "    </tr>\n",
       "    <tr>\n",
       "      <th>1</th>\n",
       "      <td>120058272</td>\n",
       "      <td>WEAPON LAWS</td>\n",
       "      <td>FIREARM, LOADED, IN VEHICLE, POSSESSION OR USE</td>\n",
       "      <td>Friday</td>\n",
       "      <td>01/29/2016 12:00:00 AM</td>\n",
       "      <td>11:00</td>\n",
       "      <td>SOUTHERN</td>\n",
       "      <td>ARREST, BOOKED</td>\n",
       "      <td>800 Block of BRYANT ST</td>\n",
       "      <td>-122.403405</td>\n",
       "      <td>37.775421</td>\n",
       "      <td>(37.775420706711, -122.403404791479)</td>\n",
       "      <td>01</td>\n",
       "    </tr>\n",
       "    <tr>\n",
       "      <th>5</th>\n",
       "      <td>160002869</td>\n",
       "      <td>ASSAULT</td>\n",
       "      <td>BATTERY</td>\n",
       "      <td>Friday</td>\n",
       "      <td>01/01/2016 12:00:00 AM</td>\n",
       "      <td>21:35</td>\n",
       "      <td>NORTHERN</td>\n",
       "      <td>NONE</td>\n",
       "      <td>1700 Block of BUSH ST</td>\n",
       "      <td>-122.426077</td>\n",
       "      <td>37.788019</td>\n",
       "      <td>(37.788018555829, -122.426077177375)</td>\n",
       "      <td>01</td>\n",
       "    </tr>\n",
       "    <tr>\n",
       "      <th>9</th>\n",
       "      <td>160003641</td>\n",
       "      <td>MISSING PERSON</td>\n",
       "      <td>FOUND PERSON</td>\n",
       "      <td>Friday</td>\n",
       "      <td>01/01/2016 12:00:00 AM</td>\n",
       "      <td>10:06</td>\n",
       "      <td>BAYVIEW</td>\n",
       "      <td>NONE</td>\n",
       "      <td>100 Block of CAMERON WY</td>\n",
       "      <td>-122.387182</td>\n",
       "      <td>37.720967</td>\n",
       "      <td>(37.7209669615499, -122.387181635995)</td>\n",
       "      <td>01</td>\n",
       "    </tr>\n",
       "    <tr>\n",
       "      <th>10</th>\n",
       "      <td>160086863</td>\n",
       "      <td>LARCENY/THEFT</td>\n",
       "      <td>ATTEMPTED THEFT FROM LOCKED VEHICLE</td>\n",
       "      <td>Friday</td>\n",
       "      <td>01/29/2016 12:00:00 AM</td>\n",
       "      <td>22:30</td>\n",
       "      <td>TARAVAL</td>\n",
       "      <td>NONE</td>\n",
       "      <td>1200 Block of 19TH AV</td>\n",
       "      <td>-122.477377</td>\n",
       "      <td>37.764478</td>\n",
       "      <td>(37.7644781578695, -122.477376524003)</td>\n",
       "      <td>01</td>\n",
       "    </tr>\n",
       "    <tr>\n",
       "      <th>...</th>\n",
       "      <td>...</td>\n",
       "      <td>...</td>\n",
       "      <td>...</td>\n",
       "      <td>...</td>\n",
       "      <td>...</td>\n",
       "      <td>...</td>\n",
       "      <td>...</td>\n",
       "      <td>...</td>\n",
       "      <td>...</td>\n",
       "      <td>...</td>\n",
       "      <td>...</td>\n",
       "      <td>...</td>\n",
       "      <td>...</td>\n",
       "    </tr>\n",
       "    <tr>\n",
       "      <th>150492</th>\n",
       "      <td>160823994</td>\n",
       "      <td>ASSAULT</td>\n",
       "      <td>BATTERY</td>\n",
       "      <td>Sunday</td>\n",
       "      <td>10/09/2016 12:00:00 AM</td>\n",
       "      <td>21:15</td>\n",
       "      <td>MISSION</td>\n",
       "      <td>NONE</td>\n",
       "      <td>18TH ST / MISSION ST</td>\n",
       "      <td>-122.419360</td>\n",
       "      <td>37.761836</td>\n",
       "      <td>(37.7618358012376, -122.419360352761)</td>\n",
       "      <td>10</td>\n",
       "    </tr>\n",
       "    <tr>\n",
       "      <th>150493</th>\n",
       "      <td>160858327</td>\n",
       "      <td>ASSAULT</td>\n",
       "      <td>BATTERY</td>\n",
       "      <td>Friday</td>\n",
       "      <td>10/21/2016 12:00:00 AM</td>\n",
       "      <td>13:30</td>\n",
       "      <td>MISSION</td>\n",
       "      <td>NONE</td>\n",
       "      <td>3400 Block of 18TH ST</td>\n",
       "      <td>-122.419749</td>\n",
       "      <td>37.761867</td>\n",
       "      <td>(37.7618672648972, -122.419748993977)</td>\n",
       "      <td>10</td>\n",
       "    </tr>\n",
       "    <tr>\n",
       "      <th>150495</th>\n",
       "      <td>161061000</td>\n",
       "      <td>ASSAULT</td>\n",
       "      <td>BATTERY</td>\n",
       "      <td>Friday</td>\n",
       "      <td>12/30/2016 12:00:00 AM</td>\n",
       "      <td>21:01</td>\n",
       "      <td>PARK</td>\n",
       "      <td>NONE</td>\n",
       "      <td>OAK ST / STANYAN ST</td>\n",
       "      <td>-122.453982</td>\n",
       "      <td>37.771428</td>\n",
       "      <td>(37.7714278595913, -122.453981622365)</td>\n",
       "      <td>12</td>\n",
       "    </tr>\n",
       "    <tr>\n",
       "      <th>150497</th>\n",
       "      <td>176000758</td>\n",
       "      <td>LARCENY/THEFT</td>\n",
       "      <td>PETTY THEFT OF PROPERTY</td>\n",
       "      <td>Thursday</td>\n",
       "      <td>12/29/2016 12:00:00 AM</td>\n",
       "      <td>20:00</td>\n",
       "      <td>CENTRAL</td>\n",
       "      <td>NONE</td>\n",
       "      <td>PINE ST / TAYLOR ST</td>\n",
       "      <td>-122.412269</td>\n",
       "      <td>37.790673</td>\n",
       "      <td>(37.7906727649886, -122.41226909106)</td>\n",
       "      <td>12</td>\n",
       "    </tr>\n",
       "    <tr>\n",
       "      <th>150498</th>\n",
       "      <td>176000764</td>\n",
       "      <td>LARCENY/THEFT</td>\n",
       "      <td>GRAND THEFT OF PROPERTY</td>\n",
       "      <td>Friday</td>\n",
       "      <td>12/30/2016 12:00:00 AM</td>\n",
       "      <td>10:00</td>\n",
       "      <td>CENTRAL</td>\n",
       "      <td>NONE</td>\n",
       "      <td>200 Block of STOCKTON ST</td>\n",
       "      <td>-122.406659</td>\n",
       "      <td>37.788275</td>\n",
       "      <td>(37.7882745285785, -122.406658711008)</td>\n",
       "      <td>12</td>\n",
       "    </tr>\n",
       "  </tbody>\n",
       "</table>\n",
       "<p>104928 rows × 13 columns</p>\n",
       "</div>"
      ],
      "text/plain": [
       "        IncidntNum        Category  \\\n",
       "0        120058272     WEAPON LAWS   \n",
       "1        120058272     WEAPON LAWS   \n",
       "5        160002869         ASSAULT   \n",
       "9        160003641  MISSING PERSON   \n",
       "10       160086863   LARCENY/THEFT   \n",
       "...            ...             ...   \n",
       "150492   160823994         ASSAULT   \n",
       "150493   160858327         ASSAULT   \n",
       "150495   161061000         ASSAULT   \n",
       "150497   176000758   LARCENY/THEFT   \n",
       "150498   176000764   LARCENY/THEFT   \n",
       "\n",
       "                                              Descript DayOfWeek  \\\n",
       "0                            POSS OF PROHIBITED WEAPON    Friday   \n",
       "1       FIREARM, LOADED, IN VEHICLE, POSSESSION OR USE    Friday   \n",
       "5                                              BATTERY    Friday   \n",
       "9                                         FOUND PERSON    Friday   \n",
       "10                 ATTEMPTED THEFT FROM LOCKED VEHICLE    Friday   \n",
       "...                                                ...       ...   \n",
       "150492                                         BATTERY    Sunday   \n",
       "150493                                         BATTERY    Friday   \n",
       "150495                                         BATTERY    Friday   \n",
       "150497                         PETTY THEFT OF PROPERTY  Thursday   \n",
       "150498                         GRAND THEFT OF PROPERTY    Friday   \n",
       "\n",
       "                          Date   Time PdDistrict      Resolution  \\\n",
       "0       01/29/2016 12:00:00 AM  11:00   SOUTHERN  ARREST, BOOKED   \n",
       "1       01/29/2016 12:00:00 AM  11:00   SOUTHERN  ARREST, BOOKED   \n",
       "5       01/01/2016 12:00:00 AM  21:35   NORTHERN            NONE   \n",
       "9       01/01/2016 12:00:00 AM  10:06    BAYVIEW            NONE   \n",
       "10      01/29/2016 12:00:00 AM  22:30    TARAVAL            NONE   \n",
       "...                        ...    ...        ...             ...   \n",
       "150492  10/09/2016 12:00:00 AM  21:15    MISSION            NONE   \n",
       "150493  10/21/2016 12:00:00 AM  13:30    MISSION            NONE   \n",
       "150495  12/30/2016 12:00:00 AM  21:01       PARK            NONE   \n",
       "150497  12/29/2016 12:00:00 AM  20:00    CENTRAL            NONE   \n",
       "150498  12/30/2016 12:00:00 AM  10:00    CENTRAL            NONE   \n",
       "\n",
       "                         Address           X          Y  \\\n",
       "0         800 Block of BRYANT ST -122.403405  37.775421   \n",
       "1         800 Block of BRYANT ST -122.403405  37.775421   \n",
       "5          1700 Block of BUSH ST -122.426077  37.788019   \n",
       "9        100 Block of CAMERON WY -122.387182  37.720967   \n",
       "10         1200 Block of 19TH AV -122.477377  37.764478   \n",
       "...                          ...         ...        ...   \n",
       "150492      18TH ST / MISSION ST -122.419360  37.761836   \n",
       "150493     3400 Block of 18TH ST -122.419749  37.761867   \n",
       "150495       OAK ST / STANYAN ST -122.453982  37.771428   \n",
       "150497       PINE ST / TAYLOR ST -122.412269  37.790673   \n",
       "150498  200 Block of STOCKTON ST -122.406659  37.788275   \n",
       "\n",
       "                                     Location Month  \n",
       "0        (37.775420706711, -122.403404791479)    01  \n",
       "1        (37.775420706711, -122.403404791479)    01  \n",
       "5        (37.788018555829, -122.426077177375)    01  \n",
       "9       (37.7209669615499, -122.387181635995)    01  \n",
       "10      (37.7644781578695, -122.477376524003)    01  \n",
       "...                                       ...   ...  \n",
       "150492  (37.7618358012376, -122.419360352761)    10  \n",
       "150493  (37.7618672648972, -122.419748993977)    10  \n",
       "150495  (37.7714278595913, -122.453981622365)    12  \n",
       "150497   (37.7906727649886, -122.41226909106)    12  \n",
       "150498  (37.7882745285785, -122.406658711008)    12  \n",
       "\n",
       "[104928 rows x 13 columns]"
      ]
     },
     "execution_count": 12,
     "metadata": {},
     "output_type": "execute_result"
    }
   ],
   "source": [
    "import pandas as pd\n",
    "import numpy as np\n",
    "import matplotlib.pyplot as plt\n",
    "\n",
    "csvpath = \"Resources/sfpd_incidents_2016.csv\"\n",
    "sfpd_df = pd.read_csv(csvpath)\n",
    "sfpd_clean = sfpd_df[~sfpd_df['Category'].isin(['NON-CRIMINAL', 'OTHER OFFENSES','SECONDARY CODES','WARRANTS','SUICIDE','BRIBERY','EXTORTION','EXTORTION','FAMILY OFFENSES','LOITERING','SEX OFFENSES', 'NON FORCIBLE','BAD CHECKS','GAMBLING','PORNOGRAPHY/OBSCENE MAT','TREA'])]\n",
    "sfpd_clean = sfpd_clean.dropna(how='any')\n",
    "sfpd_clean = sfpd_clean.drop(['PdId'], axis = 1)\n",
    "sfpd_clean[\"Month\"] = sfpd_clean[\"Date\"].str.rstrip('/').str.split('/').str[0]\n",
    "sfpd_clean"
   ]
  },
  {
   "cell_type": "markdown",
   "metadata": {},
   "source": [
    "We want to visualize how many offenses are recorded per month for the entirety of 2016:"
   ]
  },
  {
   "cell_type": "code",
   "execution_count": 11,
   "metadata": {},
   "outputs": [],
   "source": [
    "month_data = sfpd_clean[['Month','Category']]\n",
    "month_datagrouped = month_data.groupby(['Month']).count()\n",
    "month_datagrouped = month_datagrouped.sort_values('Category', ascending=False)"
   ]
  },
  {
   "cell_type": "code",
   "execution_count": 13,
   "metadata": {},
   "outputs": [
    {
     "data": {
      "text/plain": [
       "Text(0.5, 1.0, 'Recorded Offenses per Month')"
      ]
     },
     "execution_count": 13,
     "metadata": {},
     "output_type": "execute_result"
    },
    {
     "data": {
      "image/png": "[encoded data removed]",
      "text/plain": [
       "<Figure size 432x288 with 1 Axes>"
      ]
     },
     "metadata": {
      "needs_background": "light"
     },
     "output_type": "display_data"
    }
   ],
   "source": [
    "crime = month_datagrouped['Category']\n",
    "month = ['Oct','Jan','Dec','Nov','May','Aug','Sept','March','July','April','June','Feb']\n",
    "x = np.arange(len(month))\n",
    "plt.bar(x, crime, color=\"b\", align=\"center\")\n",
    "tick_locations = [value for value in x]\n",
    "plt.xticks(tick_locations, month, rotation='vertical')\n",
    "plt.xlabel('Month')\n",
    "plt.ylabel('Recorded Offenses')\n",
    "plt.title('Recorded Offenses per Month')"
   ]
  },
  {
   "cell_type": "markdown",
   "metadata": {},
   "source": [
    "Visualizing how criminal offenses are distributed by weekday:"
   ]
  },
  {
   "cell_type": "code",
   "execution_count": 15,
   "metadata": {},
   "outputs": [],
   "source": [
    "day_data = sfpd_clean[['DayOfWeek','Category']]\n",
    "day_datagroup = day_data.groupby(['DayOfWeek']).count()\n",
    "day_datagroup = day_datagroup.sort_values('Category', ascending=False)"
   ]
  },
  {
   "cell_type": "code",
   "execution_count": 16,
   "metadata": {},
   "outputs": [
    {
     "data": {
      "text/plain": [
       "Text(0.5, 1.0, 'Recorded Offenses per Day of the Week')"
      ]
     },
     "execution_count": 16,
     "metadata": {},
     "output_type": "execute_result"
    },
    {
     "data": {
      "image/png": "[encoded data removed]",
      "text/plain": [
       "<Figure size 432x288 with 1 Axes>"
      ]
     },
     "metadata": {
      "needs_background": "light"
     },
     "output_type": "display_data"
    }
   ],
   "source": [
    "crime = day_datagroup['Category']\n",
    "day = ['Friday','Saturday','Thursday','Wednesday','Tuesday','Monday','Sunday']\n",
    "x_axis = np.arange(len(day))\n",
    "plt.bar(x_axis, crime, color=\"b\", align=\"center\")\n",
    "tick_locations = [value for value in x_axis]\n",
    "plt.xticks(tick_locations, day, rotation='vertical')\n",
    "plt.xlabel('Day of the Week')\n",
    "plt.ylabel('Recorded Offenses')\n",
    "plt.title('Recorded Offenses per Day of the Week')\n"
   ]
  },
  {
   "cell_type": "markdown",
   "metadata": {},
   "source": [
    "How many incidents involve more than one offense? To avoid inflating representation of criminal activity as we analyze further, we find how many incidents involve more than one offense:"
   ]
  },
  {
   "cell_type": "code",
   "execution_count": 17,
   "metadata": {},
   "outputs": [
    {
     "data": {
      "text/plain": [
       "13630"
      ]
     },
     "execution_count": 17,
     "metadata": {},
     "output_type": "execute_result"
    }
   ],
   "source": [
    "incident_df = sfpd_clean[['IncidntNum', 'Category']]\n",
    "groupedincidents = incident_df.groupby(['IncidntNum']).count()\n",
    "multoffense = groupedincidents.loc[groupedincidents['Category']>1]\n",
    "multoffense['Category'].count()"
   ]
  },
  {
   "cell_type": "code",
   "execution_count": null,
   "metadata": {},
   "outputs": [],
   "source": []
  }
 ],
 "metadata": {
  "kernelspec": {
   "display_name": "Python 3",
   "language": "python",
   "name": "python3"
  },
  "language_info": {
   "codemirror_mode": {
    "name": "ipython",
    "version": 3
   },
   "file_extension": ".py",
   "mimetype": "text/x-python",
   "name": "python",
   "nbconvert_exporter": "python",
   "pygments_lexer": "ipython3",
   "version": "3.6.10"
  }
 },
 "nbformat": 4,
 "nbformat_minor": 4
}
