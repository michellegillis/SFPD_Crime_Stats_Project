{
 "cells": [
  {
   "cell_type": "code",
   "execution_count": null,
   "metadata": {},
   "outputs": [],
   "source": [
    "#Code for clean raw data\n",
    "csvpath = \"Resources/sfpd_incidents_2016.csv\"\n",
    "sfpd_df = pd.read_csv(csvpath)\n",
    "sfpd_clean = sfpd_df.loc[sfpd_df['Category']!= 'NON-CRIMINAL']\n",
    "sfpd_clean_df = sfpd_clean.dropna(how='any')\n",
    "sfpd_rawdata_clean = sfpd_clean_df.drop(['PdId'], axis = 1)\n",
    "sfpd_rawdata_clean"
   ]
  }
 ],
 "metadata": {
  "kernelspec": {
   "display_name": "Python 3",
   "language": "python",
   "name": "python3"
  },
  "language_info": {
   "codemirror_mode": {
    "name": "ipython",
    "version": 3
   },
   "file_extension": ".py",
   "mimetype": "text/x-python",
   "name": "python",
   "nbconvert_exporter": "python",
   "pygments_lexer": "ipython3",
   "version": "3.7.6"
  }
 },
 "nbformat": 4,
 "nbformat_minor": 4
}
