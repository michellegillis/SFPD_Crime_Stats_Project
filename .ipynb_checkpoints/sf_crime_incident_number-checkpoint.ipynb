{
 "cells": [
  {
   "cell_type": "code",
   "execution_count": 140,
   "metadata": {},
   "outputs": [],
   "source": [
    "# Code for data by individual incident number\n",
    "\n",
    "import pandas as pd\n",
    "import pandas as pd\n",
    "import matplotlib.pyplot as plt\n",
    "import pandas as pd\n",
    "import numpy as np\n",
    "import requests\n",
    "import gmaps\n",
    "import os\n",
    "import csv\n",
    "from api_keys import g_key"
   ]
  },
  {
   "cell_type": "code",
   "execution_count": 141,
   "metadata": {},
   "outputs": [
    {
     "data": {
      "text/html": [
       "<div>\n",
       "<style scoped>\n",
       "    .dataframe tbody tr th:only-of-type {\n",
       "        vertical-align: middle;\n",
       "    }\n",
       "\n",
       "    .dataframe tbody tr th {\n",
       "        vertical-align: top;\n",
       "    }\n",
       "\n",
       "    .dataframe thead th {\n",
       "        text-align: right;\n",
       "    }\n",
       "</style>\n",
       "<table border=\"1\" class=\"dataframe\">\n",
       "  <thead>\n",
       "    <tr style=\"text-align: right;\">\n",
       "      <th></th>\n",
       "      <th>IncidntNum</th>\n",
       "      <th>Category</th>\n",
       "      <th>Descript</th>\n",
       "      <th>DayOfWeek</th>\n",
       "      <th>Date</th>\n",
       "      <th>Time</th>\n",
       "      <th>PdDistrict</th>\n",
       "      <th>Resolution</th>\n",
       "      <th>Address</th>\n",
       "      <th>X</th>\n",
       "      <th>Y</th>\n",
       "      <th>Location</th>\n",
       "    </tr>\n",
       "  </thead>\n",
       "  <tbody>\n",
       "    <tr>\n",
       "      <th>0</th>\n",
       "      <td>120058272</td>\n",
       "      <td>WEAPON LAWS</td>\n",
       "      <td>POSS OF PROHIBITED WEAPON</td>\n",
       "      <td>Friday</td>\n",
       "      <td>01/29/2016 12:00:00 AM</td>\n",
       "      <td>11:00</td>\n",
       "      <td>SOUTHERN</td>\n",
       "      <td>ARREST, BOOKED</td>\n",
       "      <td>800 Block of BRYANT ST</td>\n",
       "      <td>-122.403405</td>\n",
       "      <td>37.775421</td>\n",
       "      <td>(37.775420706711, -122.403404791479)</td>\n",
       "    </tr>\n",
       "    <tr>\n",
       "      <th>2</th>\n",
       "      <td>141059263</td>\n",
       "      <td>WARRANTS</td>\n",
       "      <td>WARRANT ARREST</td>\n",
       "      <td>Monday</td>\n",
       "      <td>04/25/2016 12:00:00 AM</td>\n",
       "      <td>14:59</td>\n",
       "      <td>BAYVIEW</td>\n",
       "      <td>ARREST, BOOKED</td>\n",
       "      <td>KEITH ST / SHAFTER AV</td>\n",
       "      <td>-122.388856</td>\n",
       "      <td>37.729981</td>\n",
       "      <td>(37.7299809672996, -122.388856204292)</td>\n",
       "    </tr>\n",
       "    <tr>\n",
       "      <th>5</th>\n",
       "      <td>160002869</td>\n",
       "      <td>ASSAULT</td>\n",
       "      <td>BATTERY</td>\n",
       "      <td>Friday</td>\n",
       "      <td>01/01/2016 12:00:00 AM</td>\n",
       "      <td>21:35</td>\n",
       "      <td>NORTHERN</td>\n",
       "      <td>NONE</td>\n",
       "      <td>1700 Block of BUSH ST</td>\n",
       "      <td>-122.426077</td>\n",
       "      <td>37.788019</td>\n",
       "      <td>(37.788018555829, -122.426077177375)</td>\n",
       "    </tr>\n",
       "    <tr>\n",
       "      <th>6</th>\n",
       "      <td>160003130</td>\n",
       "      <td>OTHER OFFENSES</td>\n",
       "      <td>PAROLE VIOLATION</td>\n",
       "      <td>Saturday</td>\n",
       "      <td>01/02/2016 12:00:00 AM</td>\n",
       "      <td>00:04</td>\n",
       "      <td>SOUTHERN</td>\n",
       "      <td>ARREST, BOOKED</td>\n",
       "      <td>MARY ST / HOWARD ST</td>\n",
       "      <td>-122.405721</td>\n",
       "      <td>37.780879</td>\n",
       "      <td>(37.7808789360214, -122.405721454567)</td>\n",
       "    </tr>\n",
       "    <tr>\n",
       "      <th>8</th>\n",
       "      <td>160003970</td>\n",
       "      <td>WARRANTS</td>\n",
       "      <td>WARRANT ARREST</td>\n",
       "      <td>Saturday</td>\n",
       "      <td>01/02/2016 12:00:00 AM</td>\n",
       "      <td>12:21</td>\n",
       "      <td>SOUTHERN</td>\n",
       "      <td>ARREST, BOOKED</td>\n",
       "      <td>4TH ST / BERRY ST</td>\n",
       "      <td>-122.393357</td>\n",
       "      <td>37.775788</td>\n",
       "      <td>(37.7757876218293, -122.393357241451)</td>\n",
       "    </tr>\n",
       "    <tr>\n",
       "      <th>...</th>\n",
       "      <td>...</td>\n",
       "      <td>...</td>\n",
       "      <td>...</td>\n",
       "      <td>...</td>\n",
       "      <td>...</td>\n",
       "      <td>...</td>\n",
       "      <td>...</td>\n",
       "      <td>...</td>\n",
       "      <td>...</td>\n",
       "      <td>...</td>\n",
       "      <td>...</td>\n",
       "      <td>...</td>\n",
       "    </tr>\n",
       "    <tr>\n",
       "      <th>150493</th>\n",
       "      <td>160858327</td>\n",
       "      <td>ASSAULT</td>\n",
       "      <td>BATTERY</td>\n",
       "      <td>Friday</td>\n",
       "      <td>10/21/2016 12:00:00 AM</td>\n",
       "      <td>13:30</td>\n",
       "      <td>MISSION</td>\n",
       "      <td>NONE</td>\n",
       "      <td>3400 Block of 18TH ST</td>\n",
       "      <td>-122.419749</td>\n",
       "      <td>37.761867</td>\n",
       "      <td>(37.7618672648972, -122.419748993977)</td>\n",
       "    </tr>\n",
       "    <tr>\n",
       "      <th>150495</th>\n",
       "      <td>161061000</td>\n",
       "      <td>ASSAULT</td>\n",
       "      <td>BATTERY</td>\n",
       "      <td>Friday</td>\n",
       "      <td>12/30/2016 12:00:00 AM</td>\n",
       "      <td>21:01</td>\n",
       "      <td>PARK</td>\n",
       "      <td>NONE</td>\n",
       "      <td>OAK ST / STANYAN ST</td>\n",
       "      <td>-122.453982</td>\n",
       "      <td>37.771428</td>\n",
       "      <td>(37.7714278595913, -122.453981622365)</td>\n",
       "    </tr>\n",
       "    <tr>\n",
       "      <th>150497</th>\n",
       "      <td>176000758</td>\n",
       "      <td>LARCENY/THEFT</td>\n",
       "      <td>PETTY THEFT OF PROPERTY</td>\n",
       "      <td>Thursday</td>\n",
       "      <td>12/29/2016 12:00:00 AM</td>\n",
       "      <td>20:00</td>\n",
       "      <td>CENTRAL</td>\n",
       "      <td>NONE</td>\n",
       "      <td>PINE ST / TAYLOR ST</td>\n",
       "      <td>-122.412269</td>\n",
       "      <td>37.790673</td>\n",
       "      <td>(37.7906727649886, -122.41226909106)</td>\n",
       "    </tr>\n",
       "    <tr>\n",
       "      <th>150498</th>\n",
       "      <td>176000764</td>\n",
       "      <td>LARCENY/THEFT</td>\n",
       "      <td>GRAND THEFT OF PROPERTY</td>\n",
       "      <td>Friday</td>\n",
       "      <td>12/30/2016 12:00:00 AM</td>\n",
       "      <td>10:00</td>\n",
       "      <td>CENTRAL</td>\n",
       "      <td>NONE</td>\n",
       "      <td>200 Block of STOCKTON ST</td>\n",
       "      <td>-122.406659</td>\n",
       "      <td>37.788275</td>\n",
       "      <td>(37.7882745285785, -122.406658711008)</td>\n",
       "    </tr>\n",
       "    <tr>\n",
       "      <th>150499</th>\n",
       "      <td>179002868</td>\n",
       "      <td>OTHER OFFENSES</td>\n",
       "      <td>FRAUDULENT GAME OR TRICK, OBTAINING MONEY OR P...</td>\n",
       "      <td>Friday</td>\n",
       "      <td>12/02/2016 12:00:00 AM</td>\n",
       "      <td>14:00</td>\n",
       "      <td>SOUTHERN</td>\n",
       "      <td>NONE</td>\n",
       "      <td>800 Block of BRYANT ST</td>\n",
       "      <td>-122.403405</td>\n",
       "      <td>37.775421</td>\n",
       "      <td>(37.775420706711, -122.403404791479)</td>\n",
       "    </tr>\n",
       "  </tbody>\n",
       "</table>\n",
       "<p>102276 rows × 12 columns</p>\n",
       "</div>"
      ],
      "text/plain": [
       "        IncidntNum        Category  \\\n",
       "0        120058272     WEAPON LAWS   \n",
       "2        141059263        WARRANTS   \n",
       "5        160002869         ASSAULT   \n",
       "6        160003130  OTHER OFFENSES   \n",
       "8        160003970        WARRANTS   \n",
       "...            ...             ...   \n",
       "150493   160858327         ASSAULT   \n",
       "150495   161061000         ASSAULT   \n",
       "150497   176000758   LARCENY/THEFT   \n",
       "150498   176000764   LARCENY/THEFT   \n",
       "150499   179002868  OTHER OFFENSES   \n",
       "\n",
       "                                                 Descript DayOfWeek  \\\n",
       "0                               POSS OF PROHIBITED WEAPON    Friday   \n",
       "2                                          WARRANT ARREST    Monday   \n",
       "5                                                 BATTERY    Friday   \n",
       "6                                        PAROLE VIOLATION  Saturday   \n",
       "8                                          WARRANT ARREST  Saturday   \n",
       "...                                                   ...       ...   \n",
       "150493                                            BATTERY    Friday   \n",
       "150495                                            BATTERY    Friday   \n",
       "150497                            PETTY THEFT OF PROPERTY  Thursday   \n",
       "150498                            GRAND THEFT OF PROPERTY    Friday   \n",
       "150499  FRAUDULENT GAME OR TRICK, OBTAINING MONEY OR P...    Friday   \n",
       "\n",
       "                          Date   Time PdDistrict      Resolution  \\\n",
       "0       01/29/2016 12:00:00 AM  11:00   SOUTHERN  ARREST, BOOKED   \n",
       "2       04/25/2016 12:00:00 AM  14:59    BAYVIEW  ARREST, BOOKED   \n",
       "5       01/01/2016 12:00:00 AM  21:35   NORTHERN            NONE   \n",
       "6       01/02/2016 12:00:00 AM  00:04   SOUTHERN  ARREST, BOOKED   \n",
       "8       01/02/2016 12:00:00 AM  12:21   SOUTHERN  ARREST, BOOKED   \n",
       "...                        ...    ...        ...             ...   \n",
       "150493  10/21/2016 12:00:00 AM  13:30    MISSION            NONE   \n",
       "150495  12/30/2016 12:00:00 AM  21:01       PARK            NONE   \n",
       "150497  12/29/2016 12:00:00 AM  20:00    CENTRAL            NONE   \n",
       "150498  12/30/2016 12:00:00 AM  10:00    CENTRAL            NONE   \n",
       "150499  12/02/2016 12:00:00 AM  14:00   SOUTHERN            NONE   \n",
       "\n",
       "                         Address           X          Y  \\\n",
       "0         800 Block of BRYANT ST -122.403405  37.775421   \n",
       "2          KEITH ST / SHAFTER AV -122.388856  37.729981   \n",
       "5          1700 Block of BUSH ST -122.426077  37.788019   \n",
       "6            MARY ST / HOWARD ST -122.405721  37.780879   \n",
       "8              4TH ST / BERRY ST -122.393357  37.775788   \n",
       "...                          ...         ...        ...   \n",
       "150493     3400 Block of 18TH ST -122.419749  37.761867   \n",
       "150495       OAK ST / STANYAN ST -122.453982  37.771428   \n",
       "150497       PINE ST / TAYLOR ST -122.412269  37.790673   \n",
       "150498  200 Block of STOCKTON ST -122.406659  37.788275   \n",
       "150499    800 Block of BRYANT ST -122.403405  37.775421   \n",
       "\n",
       "                                     Location  \n",
       "0        (37.775420706711, -122.403404791479)  \n",
       "2       (37.7299809672996, -122.388856204292)  \n",
       "5        (37.788018555829, -122.426077177375)  \n",
       "6       (37.7808789360214, -122.405721454567)  \n",
       "8       (37.7757876218293, -122.393357241451)  \n",
       "...                                       ...  \n",
       "150493  (37.7618672648972, -122.419748993977)  \n",
       "150495  (37.7714278595913, -122.453981622365)  \n",
       "150497   (37.7906727649886, -122.41226909106)  \n",
       "150498  (37.7882745285785, -122.406658711008)  \n",
       "150499   (37.775420706711, -122.403404791479)  \n",
       "\n",
       "[102276 rows x 12 columns]"
      ]
     },
     "execution_count": 141,
     "metadata": {},
     "output_type": "execute_result"
    }
   ],
   "source": [
    "\n",
    "csvpath = \"Resources/sfpd_incidents_2016.csv\"\n",
    "sfpd_df = pd.read_csv(csvpath)\n",
    "sfpd_clean = sfpd_df.loc[sfpd_df['Category']!= 'NON-CRIMINAL']\n",
    "sfpd_clean_df = sfpd_clean.dropna(how='any')\n",
    "sfpd_rawdata_clean = sfpd_clean_df.drop(['PdId'], axis = 1)\n",
    "sfpd_incnum = sfpd_rawdata_clean.drop_duplicates(subset = \"IncidntNum\")\n",
    "sfpd_incnum"
   ]
  },
  {
   "cell_type": "code",
   "execution_count": 136,
   "metadata": {},
   "outputs": [],
   "source": [
    "#sfpd_incnum[\"Category\"].value_counts()"
   ]
  },
  {
   "cell_type": "code",
   "execution_count": 142,
   "metadata": {},
   "outputs": [
    {
     "data": {
      "text/html": [
       "<div>\n",
       "<style scoped>\n",
       "    .dataframe tbody tr th:only-of-type {\n",
       "        vertical-align: middle;\n",
       "    }\n",
       "\n",
       "    .dataframe tbody tr th {\n",
       "        vertical-align: top;\n",
       "    }\n",
       "\n",
       "    .dataframe thead th {\n",
       "        text-align: right;\n",
       "    }\n",
       "</style>\n",
       "<table border=\"1\" class=\"dataframe\">\n",
       "  <thead>\n",
       "    <tr style=\"text-align: right;\">\n",
       "      <th></th>\n",
       "      <th>IncidntNum</th>\n",
       "      <th>Address</th>\n",
       "    </tr>\n",
       "  </thead>\n",
       "  <tbody>\n",
       "    <tr>\n",
       "      <th>0</th>\n",
       "      <td>120058272</td>\n",
       "      <td>800 Block of BRYANT ST</td>\n",
       "    </tr>\n",
       "    <tr>\n",
       "      <th>2</th>\n",
       "      <td>141059263</td>\n",
       "      <td>KEITH ST / SHAFTER AV</td>\n",
       "    </tr>\n",
       "    <tr>\n",
       "      <th>5</th>\n",
       "      <td>160002869</td>\n",
       "      <td>1700 Block of BUSH ST</td>\n",
       "    </tr>\n",
       "    <tr>\n",
       "      <th>6</th>\n",
       "      <td>160003130</td>\n",
       "      <td>MARY ST / HOWARD ST</td>\n",
       "    </tr>\n",
       "    <tr>\n",
       "      <th>8</th>\n",
       "      <td>160003970</td>\n",
       "      <td>4TH ST / BERRY ST</td>\n",
       "    </tr>\n",
       "  </tbody>\n",
       "</table>\n",
       "</div>"
      ],
      "text/plain": [
       "   IncidntNum                 Address\n",
       "0   120058272  800 Block of BRYANT ST\n",
       "2   141059263   KEITH ST / SHAFTER AV\n",
       "5   160002869   1700 Block of BUSH ST\n",
       "6   160003130     MARY ST / HOWARD ST\n",
       "8   160003970       4TH ST / BERRY ST"
      ]
     },
     "execution_count": 142,
     "metadata": {},
     "output_type": "execute_result"
    }
   ],
   "source": [
    "sf_crime_2_df = sfpd_incnum.loc[ :, [\"IncidntNum\", \"Address\"]]\n",
    "sf_crime_2_df.head()"
   ]
  },
  {
   "cell_type": "code",
   "execution_count": 143,
   "metadata": {},
   "outputs": [
    {
     "data": {
      "text/plain": [
       "800 Block of BRYANT ST          2556\n",
       "800 Block of MARKET ST           934\n",
       "1000 Block of POTRERO AV         418\n",
       "900 Block of MARKET ST           360\n",
       "500 Block of JOHNFKENNEDY DR     359\n",
       "3200 Block of 20TH AV            319\n",
       "800 Block of MISSION ST          287\n",
       "1000 Block of POINTLOBOS AV      278\n",
       "1100 Block of FILLMORE ST        258\n",
       "100 Block of OFARRELL ST         251\n",
       "700 Block of MARKET ST           224\n",
       "2000 Block of MARKET ST          223\n",
       "0 Block of UNITEDNATIONS PZ      220\n",
       "700 Block of MISSION ST          201\n",
       "16TH ST / MISSION ST             200\n",
       "Name: Address, dtype: int64"
      ]
     },
     "execution_count": 143,
     "metadata": {},
     "output_type": "execute_result"
    }
   ],
   "source": [
    "sf_crime_2_df[\"Address\"].value_counts().head(15)"
   ]
  },
  {
   "cell_type": "code",
   "execution_count": 144,
   "metadata": {},
   "outputs": [
    {
     "data": {
      "text/html": [
       "<div>\n",
       "<style scoped>\n",
       "    .dataframe tbody tr th:only-of-type {\n",
       "        vertical-align: middle;\n",
       "    }\n",
       "\n",
       "    .dataframe tbody tr th {\n",
       "        vertical-align: top;\n",
       "    }\n",
       "\n",
       "    .dataframe thead th {\n",
       "        text-align: right;\n",
       "    }\n",
       "</style>\n",
       "<table border=\"1\" class=\"dataframe\">\n",
       "  <thead>\n",
       "    <tr style=\"text-align: right;\">\n",
       "      <th></th>\n",
       "      <th>IncidentNum</th>\n",
       "    </tr>\n",
       "    <tr>\n",
       "      <th>Region</th>\n",
       "      <th></th>\n",
       "    </tr>\n",
       "  </thead>\n",
       "  <tbody>\n",
       "    <tr>\n",
       "      <th>800 Block of BRYANT ST</th>\n",
       "      <td>2556</td>\n",
       "    </tr>\n",
       "    <tr>\n",
       "      <th>800 Block of MARKET ST</th>\n",
       "      <td>934</td>\n",
       "    </tr>\n",
       "    <tr>\n",
       "      <th>1000 Block of POTRERO AV</th>\n",
       "      <td>418</td>\n",
       "    </tr>\n",
       "    <tr>\n",
       "      <th>900 Block of MARKET ST</th>\n",
       "      <td>360</td>\n",
       "    </tr>\n",
       "    <tr>\n",
       "      <th>500 Block of JOHNFKENNEDY DR</th>\n",
       "      <td>359</td>\n",
       "    </tr>\n",
       "  </tbody>\n",
       "</table>\n",
       "</div>"
      ],
      "text/plain": [
       "                              IncidentNum\n",
       "Region                                   \n",
       "800 Block of BRYANT ST               2556\n",
       "800 Block of MARKET ST                934\n",
       "1000 Block of POTRERO AV              418\n",
       "900 Block of MARKET ST                360\n",
       "500 Block of JOHNFKENNEDY DR          359"
      ]
     },
     "execution_count": 144,
     "metadata": {},
     "output_type": "execute_result"
    }
   ],
   "source": [
    "data = {'Region': ['800 Block of BRYANT ST', '800 Block of MARKET ST', '1000 Block of POTRERO AV',\n",
    "                   '900 Block of MARKET ST', '500 Block of JOHNFKENNEDY DR', '3200 Block of 20TH AV',\n",
    "                   '800 Block of MISSION ST', '1000 Block of POINTLOBOS AV', '1100 Block of FILLMORE ST',\n",
    "                   '100 Block of OFARRELL ST', '700 Block of MARKET ST', '2000 Block of MARKET ST',\n",
    "                   '0 Block of UNITEDNATIONS PZ', '700 Block of MISSION ST', '16TH ST / MISSION ST'], \n",
    "        'IncidentNum': [2556, 934, 418, 360, 359, 319, 287, 278, 258, 251, 224, 223, 220, 201, 200] \n",
    "} \n",
    "  \n",
    "# Convert the dictionary into DataFrame \n",
    "region_df = pd.DataFrame(data)\n",
    "region_df = region_df.set_index(\"Region\")\n",
    "\n",
    "# Observe the result \n",
    "region_df.head()"
   ]
  },
  {
   "cell_type": "code",
   "execution_count": 145,
   "metadata": {},
   "outputs": [
    {
     "data": {
      "image/png": "[encoded data removed]",
      "text/plain": [
       "<Figure size 720x504 with 1 Axes>"
      ]
     },
     "metadata": {
      "needs_background": "light"
     },
     "output_type": "display_data"
    },
    {
     "data": {
      "text/plain": [
       "<Figure size 432x288 with 0 Axes>"
      ]
     },
     "metadata": {},
     "output_type": "display_data"
    }
   ],
   "source": [
    "crimes_reg_plot = region_df.plot.bar(figsize=(10,7), color='b',fontsize = 12) \n",
    "\n",
    "# Set the xlabel and ylabel using class methods\n",
    "crimes_reg_plot.set_xlabel(\"SF Regions\",fontsize = 12)\n",
    "crimes_reg_plot.set_ylabel(\"Number of Criminal Incidents\",fontsize = 12)\n",
    "plt.title(\"Top SF Regions By Criminal Incident Number 2016\",fontsize = 14)\n",
    "plt.xticks(rotation = 70)\n",
    "plt.show()\n",
    "plt.tight_layout()"
   ]
  },
  {
   "cell_type": "code",
   "execution_count": 146,
   "metadata": {},
   "outputs": [
    {
     "data": {
      "text/plain": [
       "PdDistrict\n",
       "BAYVIEW        9894\n",
       "CENTRAL       12493\n",
       "INGLESIDE      7725\n",
       "MISSION       12662\n",
       "NORTHERN      14340\n",
       "PARK           5820\n",
       "RICHMOND       6323\n",
       "SOUTHERN      19427\n",
       "TARAVAL        7688\n",
       "TENDERLOIN     5904\n",
       "Name: PdDistrict, dtype: int64"
      ]
     },
     "execution_count": 146,
     "metadata": {},
     "output_type": "execute_result"
    }
   ],
   "source": [
    "crime_dis_df = sfpd_incnum.groupby(\"PdDistrict\")\n",
    "\n",
    "count_crimes = crime_dis_df[\"PdDistrict\"].count()\n",
    "\n",
    "count_crimes"
   ]
  },
  {
   "cell_type": "code",
   "execution_count": 147,
   "metadata": {},
   "outputs": [
    {
     "data": {
      "image/png": "[encoded data removed]",
      "text/plain": [
       "<Figure size 720x504 with 1 Axes>"
      ]
     },
     "metadata": {
      "needs_background": "light"
     },
     "output_type": "display_data"
    },
    {
     "data": {
      "text/plain": [
       "<Figure size 432x288 with 0 Axes>"
      ]
     },
     "metadata": {},
     "output_type": "display_data"
    }
   ],
   "source": [
    "crimes_plot = count_crimes.plot.bar(figsize=(10,7), color='b',fontsize = 12) \n",
    "\n",
    "# Set the xlabel and ylabel using class methods\n",
    "crimes_plot.set_xlabel(\"SF Districts\",fontsize = 12)\n",
    "crimes_plot.set_ylabel(\"Number of Criminal Incidents\",fontsize = 12)\n",
    "plt.title(\"Number of Criminal Indicidents by SF Districts 2016\",fontsize = 14)\n",
    "plt.xticks(rotation = 70)\n",
    "plt.show()\n",
    "plt.tight_layout()"
   ]
  },
  {
   "cell_type": "code",
   "execution_count": null,
   "metadata": {},
   "outputs": [],
   "source": []
  },
  {
   "cell_type": "code",
   "execution_count": 83,
   "metadata": {},
   "outputs": [
    {
     "data": {
      "application/vnd.jupyter.widget-view+json": {
       "model_id": "b8ff6c3a720a44d292baa1924c323e85",
       "version_major": 2,
       "version_minor": 0
      },
      "text/plain": [
       "Figure(layout=FigureLayout(height='600px', width='800px'))"
      ]
     },
     "metadata": {},
     "output_type": "display_data"
    }
   ],
   "source": [
    "locations = sfpd_incnum[['Y', 'X']]\n",
    "IncidntNum = sfpd_incnum['IncidntNum']\n",
    "fig = gmaps.figure(center=(46.0, -5.0), zoom_level=2)\n",
    "fig = gmaps.figure(layout={'width': '800px', 'height': '600px'})\n",
    "heat_layer = gmaps.heatmap_layer(locations, weights=IncidntNum,dissipating=False, max_intensity=300, \n",
    "                                 point_radius=5)\n",
    "fig.add_layer(heat_layer)\n",
    "fig"
   ]
  },
  {
   "cell_type": "code",
   "execution_count": 84,
   "metadata": {},
   "outputs": [],
   "source": [
    "info_box_template = \"\"\"\n",
    "<dl>\n",
    "<dt>Name</dt><dd>{IncidntNum}</dd>\n",
    "<dt>City</dt><dd>{PdDistrict}</dd>\n",
    "#<dt>Country</dt><dd>{IncidntNum}</dd>\n",
    "</dl>\n",
    "\"\"\"\n",
    "# Store the DataFrame Row\n",
    "# NOTE: be sure to update with your DataFrame name\n",
    "Incidents = [info_box_template.format(**row) for index, row in sfpd_incnum.iterrows()]\n",
    "locations = sfpd_incnum[[\"X\", \"Y\"]]"
   ]
  },
  {
   "cell_type": "code",
   "execution_count": 93,
   "metadata": {},
   "outputs": [
    {
     "ename": "KeyError",
     "evalue": "1",
     "output_type": "error",
     "traceback": [
      "\u001b[1;31m---------------------------------------------------------------------------\u001b[0m",
      "\u001b[1;31mKeyError\u001b[0m                                  Traceback (most recent call last)",
      "\u001b[1;32m<ipython-input-93-92cf9569515f>\u001b[0m in \u001b[0;36m<module>\u001b[1;34m\u001b[0m\n\u001b[1;32m----> 1\u001b[1;33m \u001b[0mmarker_layer\u001b[0m \u001b[1;33m=\u001b[0m \u001b[0mgmaps\u001b[0m\u001b[1;33m.\u001b[0m\u001b[0mmarker_layer\u001b[0m\u001b[1;33m(\u001b[0m\u001b[0mlocations\u001b[0m\u001b[1;33m,\u001b[0m \u001b[0minfo_box_content\u001b[0m\u001b[1;33m=\u001b[0m\u001b[0mIncidntNum\u001b[0m\u001b[1;33m)\u001b[0m\u001b[1;33m\u001b[0m\u001b[1;33m\u001b[0m\u001b[0m\n\u001b[0m\u001b[0;32m      2\u001b[0m \u001b[0mfig\u001b[0m\u001b[1;33m.\u001b[0m\u001b[0madd_layer\u001b[0m\u001b[1;33m(\u001b[0m\u001b[0mmarker_layer\u001b[0m\u001b[1;33m)\u001b[0m\u001b[1;33m\u001b[0m\u001b[1;33m\u001b[0m\u001b[0m\n\u001b[0;32m      3\u001b[0m \u001b[1;31m# Display figure\u001b[0m\u001b[1;33m\u001b[0m\u001b[1;33m\u001b[0m\u001b[1;33m\u001b[0m\u001b[0m\n\u001b[0;32m      4\u001b[0m \u001b[0mfig\u001b[0m\u001b[1;33m\u001b[0m\u001b[1;33m\u001b[0m\u001b[0m\n",
      "\u001b[1;32m~\\anaconda3\\lib\\site-packages\\gmaps\\marker.py\u001b[0m in \u001b[0;36mmarker_layer\u001b[1;34m(locations, hover_text, label, info_box_content, display_info_box)\u001b[0m\n\u001b[0;32m    552\u001b[0m     \"\"\"\n\u001b[0;32m    553\u001b[0m     marker_options = _marker_layer_options(\n\u001b[1;32m--> 554\u001b[1;33m         locations, hover_text, label, info_box_content, display_info_box)\n\u001b[0m\u001b[0;32m    555\u001b[0m     \u001b[0mmarkers\u001b[0m \u001b[1;33m=\u001b[0m \u001b[1;33m[\u001b[0m\u001b[0mMarker\u001b[0m\u001b[1;33m(\u001b[0m\u001b[1;33m**\u001b[0m\u001b[0moption\u001b[0m\u001b[1;33m)\u001b[0m \u001b[1;32mfor\u001b[0m \u001b[0moption\u001b[0m \u001b[1;32min\u001b[0m \u001b[0mmarker_options\u001b[0m\u001b[1;33m]\u001b[0m\u001b[1;33m\u001b[0m\u001b[1;33m\u001b[0m\u001b[0m\n\u001b[0;32m    556\u001b[0m     \u001b[1;32mreturn\u001b[0m \u001b[0mMarkers\u001b[0m\u001b[1;33m(\u001b[0m\u001b[0mmarkers\u001b[0m\u001b[1;33m=\u001b[0m\u001b[0mmarkers\u001b[0m\u001b[1;33m)\u001b[0m\u001b[1;33m\u001b[0m\u001b[1;33m\u001b[0m\u001b[0m\n",
      "\u001b[1;32m~\\anaconda3\\lib\\site-packages\\gmaps\\marker.py\u001b[0m in \u001b[0;36m_marker_layer_options\u001b[1;34m(locations, hover_text, label, info_box_content, display_info_box)\u001b[0m\n\u001b[0;32m    319\u001b[0m \u001b[1;33m\u001b[0m\u001b[0m\n\u001b[0;32m    320\u001b[0m     info_box_options = _info_box_option_lists(\n\u001b[1;32m--> 321\u001b[1;33m         number_markers, info_box_content, display_info_box)\n\u001b[0m\u001b[0;32m    322\u001b[0m \u001b[1;33m\u001b[0m\u001b[0m\n\u001b[0;32m    323\u001b[0m     \u001b[0mmarker_options\u001b[0m\u001b[1;33m.\u001b[0m\u001b[0mupdate\u001b[0m\u001b[1;33m(\u001b[0m\u001b[0minfo_box_options\u001b[0m\u001b[1;33m)\u001b[0m\u001b[1;33m\u001b[0m\u001b[1;33m\u001b[0m\u001b[0m\n",
      "\u001b[1;32m~\\anaconda3\\lib\\site-packages\\gmaps\\marker.py\u001b[0m in \u001b[0;36m_info_box_option_lists\u001b[1;34m(number_markers, info_box_content, display_info_box)\u001b[0m\n\u001b[0;32m    252\u001b[0m     \u001b[1;32mfor\u001b[0m \u001b[0mimarker\u001b[0m \u001b[1;32min\u001b[0m \u001b[0mrange\u001b[0m\u001b[1;33m(\u001b[0m\u001b[0mnumber_markers\u001b[0m\u001b[1;33m)\u001b[0m\u001b[1;33m:\u001b[0m\u001b[1;33m\u001b[0m\u001b[1;33m\u001b[0m\u001b[0m\n\u001b[0;32m    253\u001b[0m         \u001b[1;32mif\u001b[0m \u001b[0mdisplay_info_box\u001b[0m\u001b[1;33m[\u001b[0m\u001b[0mimarker\u001b[0m\u001b[1;33m]\u001b[0m \u001b[1;32mis\u001b[0m \u001b[1;32mNone\u001b[0m\u001b[1;33m:\u001b[0m\u001b[1;33m\u001b[0m\u001b[1;33m\u001b[0m\u001b[0m\n\u001b[1;32m--> 254\u001b[1;33m             \u001b[0mis_content_empty\u001b[0m \u001b[1;33m=\u001b[0m \u001b[1;33m(\u001b[0m\u001b[0minfo_box_content\u001b[0m\u001b[1;33m[\u001b[0m\u001b[0mimarker\u001b[0m\u001b[1;33m]\u001b[0m \u001b[1;32mis\u001b[0m \u001b[1;32mNone\u001b[0m\u001b[1;33m)\u001b[0m\u001b[1;33m\u001b[0m\u001b[1;33m\u001b[0m\u001b[0m\n\u001b[0m\u001b[0;32m    255\u001b[0m             \u001b[1;32mif\u001b[0m \u001b[0mis_content_empty\u001b[0m\u001b[1;33m:\u001b[0m\u001b[1;33m\u001b[0m\u001b[1;33m\u001b[0m\u001b[0m\n\u001b[0;32m    256\u001b[0m                 \u001b[0mdisplay_info_box\u001b[0m\u001b[1;33m[\u001b[0m\u001b[0mimarker\u001b[0m\u001b[1;33m]\u001b[0m \u001b[1;33m=\u001b[0m \u001b[1;32mFalse\u001b[0m\u001b[1;33m\u001b[0m\u001b[1;33m\u001b[0m\u001b[0m\n",
      "\u001b[1;32m~\\anaconda3\\lib\\site-packages\\pandas\\core\\series.py\u001b[0m in \u001b[0;36m__getitem__\u001b[1;34m(self, key)\u001b[0m\n\u001b[0;32m    869\u001b[0m         \u001b[0mkey\u001b[0m \u001b[1;33m=\u001b[0m \u001b[0mcom\u001b[0m\u001b[1;33m.\u001b[0m\u001b[0mapply_if_callable\u001b[0m\u001b[1;33m(\u001b[0m\u001b[0mkey\u001b[0m\u001b[1;33m,\u001b[0m \u001b[0mself\u001b[0m\u001b[1;33m)\u001b[0m\u001b[1;33m\u001b[0m\u001b[1;33m\u001b[0m\u001b[0m\n\u001b[0;32m    870\u001b[0m         \u001b[1;32mtry\u001b[0m\u001b[1;33m:\u001b[0m\u001b[1;33m\u001b[0m\u001b[1;33m\u001b[0m\u001b[0m\n\u001b[1;32m--> 871\u001b[1;33m             \u001b[0mresult\u001b[0m \u001b[1;33m=\u001b[0m \u001b[0mself\u001b[0m\u001b[1;33m.\u001b[0m\u001b[0mindex\u001b[0m\u001b[1;33m.\u001b[0m\u001b[0mget_value\u001b[0m\u001b[1;33m(\u001b[0m\u001b[0mself\u001b[0m\u001b[1;33m,\u001b[0m \u001b[0mkey\u001b[0m\u001b[1;33m)\u001b[0m\u001b[1;33m\u001b[0m\u001b[1;33m\u001b[0m\u001b[0m\n\u001b[0m\u001b[0;32m    872\u001b[0m \u001b[1;33m\u001b[0m\u001b[0m\n\u001b[0;32m    873\u001b[0m             \u001b[1;32mif\u001b[0m \u001b[1;32mnot\u001b[0m \u001b[0mis_scalar\u001b[0m\u001b[1;33m(\u001b[0m\u001b[0mresult\u001b[0m\u001b[1;33m)\u001b[0m\u001b[1;33m:\u001b[0m\u001b[1;33m\u001b[0m\u001b[1;33m\u001b[0m\u001b[0m\n",
      "\u001b[1;32m~\\anaconda3\\lib\\site-packages\\pandas\\core\\indexes\\base.py\u001b[0m in \u001b[0;36mget_value\u001b[1;34m(self, series, key)\u001b[0m\n\u001b[0;32m   4403\u001b[0m         \u001b[0mk\u001b[0m \u001b[1;33m=\u001b[0m \u001b[0mself\u001b[0m\u001b[1;33m.\u001b[0m\u001b[0m_convert_scalar_indexer\u001b[0m\u001b[1;33m(\u001b[0m\u001b[0mk\u001b[0m\u001b[1;33m,\u001b[0m \u001b[0mkind\u001b[0m\u001b[1;33m=\u001b[0m\u001b[1;34m\"getitem\"\u001b[0m\u001b[1;33m)\u001b[0m\u001b[1;33m\u001b[0m\u001b[1;33m\u001b[0m\u001b[0m\n\u001b[0;32m   4404\u001b[0m         \u001b[1;32mtry\u001b[0m\u001b[1;33m:\u001b[0m\u001b[1;33m\u001b[0m\u001b[1;33m\u001b[0m\u001b[0m\n\u001b[1;32m-> 4405\u001b[1;33m             \u001b[1;32mreturn\u001b[0m \u001b[0mself\u001b[0m\u001b[1;33m.\u001b[0m\u001b[0m_engine\u001b[0m\u001b[1;33m.\u001b[0m\u001b[0mget_value\u001b[0m\u001b[1;33m(\u001b[0m\u001b[0ms\u001b[0m\u001b[1;33m,\u001b[0m \u001b[0mk\u001b[0m\u001b[1;33m,\u001b[0m \u001b[0mtz\u001b[0m\u001b[1;33m=\u001b[0m\u001b[0mgetattr\u001b[0m\u001b[1;33m(\u001b[0m\u001b[0mseries\u001b[0m\u001b[1;33m.\u001b[0m\u001b[0mdtype\u001b[0m\u001b[1;33m,\u001b[0m \u001b[1;34m\"tz\"\u001b[0m\u001b[1;33m,\u001b[0m \u001b[1;32mNone\u001b[0m\u001b[1;33m)\u001b[0m\u001b[1;33m)\u001b[0m\u001b[1;33m\u001b[0m\u001b[1;33m\u001b[0m\u001b[0m\n\u001b[0m\u001b[0;32m   4406\u001b[0m         \u001b[1;32mexcept\u001b[0m \u001b[0mKeyError\u001b[0m \u001b[1;32mas\u001b[0m \u001b[0me1\u001b[0m\u001b[1;33m:\u001b[0m\u001b[1;33m\u001b[0m\u001b[1;33m\u001b[0m\u001b[0m\n\u001b[0;32m   4407\u001b[0m             \u001b[1;32mif\u001b[0m \u001b[0mlen\u001b[0m\u001b[1;33m(\u001b[0m\u001b[0mself\u001b[0m\u001b[1;33m)\u001b[0m \u001b[1;33m>\u001b[0m \u001b[1;36m0\u001b[0m \u001b[1;32mand\u001b[0m \u001b[1;33m(\u001b[0m\u001b[0mself\u001b[0m\u001b[1;33m.\u001b[0m\u001b[0mholds_integer\u001b[0m\u001b[1;33m(\u001b[0m\u001b[1;33m)\u001b[0m \u001b[1;32mor\u001b[0m \u001b[0mself\u001b[0m\u001b[1;33m.\u001b[0m\u001b[0mis_boolean\u001b[0m\u001b[1;33m(\u001b[0m\u001b[1;33m)\u001b[0m\u001b[1;33m)\u001b[0m\u001b[1;33m:\u001b[0m\u001b[1;33m\u001b[0m\u001b[1;33m\u001b[0m\u001b[0m\n",
      "\u001b[1;32mpandas\\_libs\\index.pyx\u001b[0m in \u001b[0;36mpandas._libs.index.IndexEngine.get_value\u001b[1;34m()\u001b[0m\n",
      "\u001b[1;32mpandas\\_libs\\index.pyx\u001b[0m in \u001b[0;36mpandas._libs.index.IndexEngine.get_value\u001b[1;34m()\u001b[0m\n",
      "\u001b[1;32mpandas\\_libs\\index.pyx\u001b[0m in \u001b[0;36mpandas._libs.index.IndexEngine.get_loc\u001b[1;34m()\u001b[0m\n",
      "\u001b[1;32mpandas\\_libs\\hashtable_class_helper.pxi\u001b[0m in \u001b[0;36mpandas._libs.hashtable.Int64HashTable.get_item\u001b[1;34m()\u001b[0m\n",
      "\u001b[1;32mpandas\\_libs\\hashtable_class_helper.pxi\u001b[0m in \u001b[0;36mpandas._libs.hashtable.Int64HashTable.get_item\u001b[1;34m()\u001b[0m\n",
      "\u001b[1;31mKeyError\u001b[0m: 1"
     ]
    }
   ],
   "source": [
    "marker_layer = gmaps.marker_layer(locations, info_box_content=IncidntNum)\n",
    "fig.add_layer(marker_layer)\n",
    "# Display figure\n",
    "fig"
   ]
  }
 ],
 "metadata": {
  "kernelspec": {
   "display_name": "Python 3",
   "language": "python",
   "name": "python3"
  },
  "language_info": {
   "codemirror_mode": {
    "name": "ipython",
    "version": 3
   },
   "file_extension": ".py",
   "mimetype": "text/x-python",
   "name": "python",
   "nbconvert_exporter": "python",
   "pygments_lexer": "ipython3",
   "version": "3.7.6"
  }
 },
 "nbformat": 4,
 "nbformat_minor": 4
}
