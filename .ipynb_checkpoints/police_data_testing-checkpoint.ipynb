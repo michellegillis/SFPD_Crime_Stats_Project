{
 "cells": [
  {
   "cell_type": "code",
   "execution_count": 2,
   "metadata": {},
   "outputs": [
    {
     "data": {
      "text/html": [
       "<div>\n",
       "<style scoped>\n",
       "    .dataframe tbody tr th:only-of-type {\n",
       "        vertical-align: middle;\n",
       "    }\n",
       "\n",
       "    .dataframe tbody tr th {\n",
       "        vertical-align: top;\n",
       "    }\n",
       "\n",
       "    .dataframe thead th {\n",
       "        text-align: right;\n",
       "    }\n",
       "</style>\n",
       "<table border=\"1\" class=\"dataframe\">\n",
       "  <thead>\n",
       "    <tr style=\"text-align: right;\">\n",
       "      <th></th>\n",
       "      <th>IncidntNum</th>\n",
       "      <th>Category</th>\n",
       "      <th>Descript</th>\n",
       "      <th>DayOfWeek</th>\n",
       "      <th>Date</th>\n",
       "      <th>Time</th>\n",
       "      <th>PdDistrict</th>\n",
       "      <th>Resolution</th>\n",
       "      <th>Address</th>\n",
       "      <th>X</th>\n",
       "      <th>Y</th>\n",
       "      <th>Location</th>\n",
       "      <th>PdId</th>\n",
       "    </tr>\n",
       "  </thead>\n",
       "  <tbody>\n",
       "    <tr>\n",
       "      <th>0</th>\n",
       "      <td>120058272</td>\n",
       "      <td>WEAPON LAWS</td>\n",
       "      <td>POSS OF PROHIBITED WEAPON</td>\n",
       "      <td>Friday</td>\n",
       "      <td>01/29/2016 12:00:00 AM</td>\n",
       "      <td>11:00</td>\n",
       "      <td>SOUTHERN</td>\n",
       "      <td>ARREST, BOOKED</td>\n",
       "      <td>800 Block of BRYANT ST</td>\n",
       "      <td>-122.403405</td>\n",
       "      <td>37.775421</td>\n",
       "      <td>(37.775420706711, -122.403404791479)</td>\n",
       "      <td>12005827212120</td>\n",
       "    </tr>\n",
       "    <tr>\n",
       "      <th>1</th>\n",
       "      <td>120058272</td>\n",
       "      <td>WEAPON LAWS</td>\n",
       "      <td>FIREARM, LOADED, IN VEHICLE, POSSESSION OR USE</td>\n",
       "      <td>Friday</td>\n",
       "      <td>01/29/2016 12:00:00 AM</td>\n",
       "      <td>11:00</td>\n",
       "      <td>SOUTHERN</td>\n",
       "      <td>ARREST, BOOKED</td>\n",
       "      <td>800 Block of BRYANT ST</td>\n",
       "      <td>-122.403405</td>\n",
       "      <td>37.775421</td>\n",
       "      <td>(37.775420706711, -122.403404791479)</td>\n",
       "      <td>12005827212168</td>\n",
       "    </tr>\n",
       "    <tr>\n",
       "      <th>2</th>\n",
       "      <td>141059263</td>\n",
       "      <td>WARRANTS</td>\n",
       "      <td>WARRANT ARREST</td>\n",
       "      <td>Monday</td>\n",
       "      <td>04/25/2016 12:00:00 AM</td>\n",
       "      <td>14:59</td>\n",
       "      <td>BAYVIEW</td>\n",
       "      <td>ARREST, BOOKED</td>\n",
       "      <td>KEITH ST / SHAFTER AV</td>\n",
       "      <td>-122.388856</td>\n",
       "      <td>37.729981</td>\n",
       "      <td>(37.7299809672996, -122.388856204292)</td>\n",
       "      <td>14105926363010</td>\n",
       "    </tr>\n",
       "    <tr>\n",
       "      <th>3</th>\n",
       "      <td>160013662</td>\n",
       "      <td>NON-CRIMINAL</td>\n",
       "      <td>LOST PROPERTY</td>\n",
       "      <td>Tuesday</td>\n",
       "      <td>01/05/2016 12:00:00 AM</td>\n",
       "      <td>23:50</td>\n",
       "      <td>TENDERLOIN</td>\n",
       "      <td>NONE</td>\n",
       "      <td>JONES ST / OFARRELL ST</td>\n",
       "      <td>-122.412971</td>\n",
       "      <td>37.785788</td>\n",
       "      <td>(37.7857883766888, -122.412970537591)</td>\n",
       "      <td>16001366271000</td>\n",
       "    </tr>\n",
       "    <tr>\n",
       "      <th>4</th>\n",
       "      <td>160002740</td>\n",
       "      <td>NON-CRIMINAL</td>\n",
       "      <td>LOST PROPERTY</td>\n",
       "      <td>Friday</td>\n",
       "      <td>01/01/2016 12:00:00 AM</td>\n",
       "      <td>00:30</td>\n",
       "      <td>MISSION</td>\n",
       "      <td>NONE</td>\n",
       "      <td>16TH ST / MISSION ST</td>\n",
       "      <td>-122.419672</td>\n",
       "      <td>37.765050</td>\n",
       "      <td>(37.7650501214668, -122.419671780296)</td>\n",
       "      <td>16000274071000</td>\n",
       "    </tr>\n",
       "  </tbody>\n",
       "</table>\n",
       "</div>"
      ],
      "text/plain": [
       "   IncidntNum      Category                                        Descript  \\\n",
       "0   120058272   WEAPON LAWS                       POSS OF PROHIBITED WEAPON   \n",
       "1   120058272   WEAPON LAWS  FIREARM, LOADED, IN VEHICLE, POSSESSION OR USE   \n",
       "2   141059263      WARRANTS                                  WARRANT ARREST   \n",
       "3   160013662  NON-CRIMINAL                                   LOST PROPERTY   \n",
       "4   160002740  NON-CRIMINAL                                   LOST PROPERTY   \n",
       "\n",
       "  DayOfWeek                    Date   Time  PdDistrict      Resolution  \\\n",
       "0    Friday  01/29/2016 12:00:00 AM  11:00    SOUTHERN  ARREST, BOOKED   \n",
       "1    Friday  01/29/2016 12:00:00 AM  11:00    SOUTHERN  ARREST, BOOKED   \n",
       "2    Monday  04/25/2016 12:00:00 AM  14:59     BAYVIEW  ARREST, BOOKED   \n",
       "3   Tuesday  01/05/2016 12:00:00 AM  23:50  TENDERLOIN            NONE   \n",
       "4    Friday  01/01/2016 12:00:00 AM  00:30     MISSION            NONE   \n",
       "\n",
       "                  Address           X          Y  \\\n",
       "0  800 Block of BRYANT ST -122.403405  37.775421   \n",
       "1  800 Block of BRYANT ST -122.403405  37.775421   \n",
       "2   KEITH ST / SHAFTER AV -122.388856  37.729981   \n",
       "3  JONES ST / OFARRELL ST -122.412971  37.785788   \n",
       "4    16TH ST / MISSION ST -122.419672  37.765050   \n",
       "\n",
       "                                Location            PdId  \n",
       "0   (37.775420706711, -122.403404791479)  12005827212120  \n",
       "1   (37.775420706711, -122.403404791479)  12005827212168  \n",
       "2  (37.7299809672996, -122.388856204292)  14105926363010  \n",
       "3  (37.7857883766888, -122.412970537591)  16001366271000  \n",
       "4  (37.7650501214668, -122.419671780296)  16000274071000  "
      ]
     },
     "execution_count": 2,
     "metadata": {},
     "output_type": "execute_result"
    }
   ],
   "source": [
    "# jordan testing branch\n",
    "import pandas as pd\n",
    "\n",
    "csvpath = \"Resources/sfpd_incidents_2016.csv\"\n",
    "sfpd_df = pd.read_csv(csvpath)\n",
    "sfpd_df.head()"
   ]
  },
  {
   "cell_type": "code",
   "execution_count": 3,
   "metadata": {},
   "outputs": [
    {
     "data": {
      "text/plain": [
       "array(['WEAPON LAWS', 'WARRANTS', 'NON-CRIMINAL', 'ASSAULT',\n",
       "       'OTHER OFFENSES', 'MISSING PERSON', 'LARCENY/THEFT', 'BURGLARY',\n",
       "       'STOLEN PROPERTY', 'ROBBERY', 'FRAUD', 'DRUG/NARCOTIC',\n",
       "       'VEHICLE THEFT', 'RECOVERED VEHICLE', 'VANDALISM', 'ARSON',\n",
       "       'PROSTITUTION', 'SECONDARY CODES', 'SUSPICIOUS OCC', 'DRUNKENNESS',\n",
       "       'TRESPASS', 'SEX OFFENSES, NON FORCIBLE', 'SEX OFFENSES, FORCIBLE',\n",
       "       'RUNAWAY', 'KIDNAPPING', 'DISORDERLY CONDUCT',\n",
       "       'DRIVING UNDER THE INFLUENCE', 'FORGERY/COUNTERFEITING',\n",
       "       'EMBEZZLEMENT', 'BRIBERY', 'FAMILY OFFENSES', 'GAMBLING',\n",
       "       'SUICIDE', 'LIQUOR LAWS', 'EXTORTION', 'LOITERING', 'TREA',\n",
       "       'BAD CHECKS', 'PORNOGRAPHY/OBSCENE MAT'], dtype=object)"
      ]
     },
     "execution_count": 3,
     "metadata": {},
     "output_type": "execute_result"
    }
   ],
   "source": [
    "crime_categories = sfpd_df[\"Category\"].unique()\n",
    "crime_categories"
   ]
  },
  {
   "cell_type": "code",
   "execution_count": 4,
   "metadata": {},
   "outputs": [
    {
     "name": "stdout",
     "output_type": "stream",
     "text": [
      "39\n"
     ]
    }
   ],
   "source": [
    "print(len(crime_categories))"
   ]
  },
  {
   "cell_type": "code",
   "execution_count": 9,
   "metadata": {},
   "outputs": [
    {
     "data": {
      "text/plain": [
       "LARCENY/THEFT                  40409\n",
       "OTHER OFFENSES                 19599\n",
       "NON-CRIMINAL                   17866\n",
       "ASSAULT                        13577\n",
       "VANDALISM                       8589\n",
       "VEHICLE THEFT                   6419\n",
       "WARRANTS                        5914\n",
       "BURGLARY                        5802\n",
       "SUSPICIOUS OCC                  5782\n",
       "MISSING PERSON                  4338\n",
       "DRUG/NARCOTIC                   4243\n",
       "ROBBERY                         3299\n",
       "FRAUD                           2635\n",
       "SECONDARY CODES                 1841\n",
       "TRESPASS                        1812\n",
       "WEAPON LAWS                     1658\n",
       "SEX OFFENSES, FORCIBLE           940\n",
       "STOLEN PROPERTY                  882\n",
       "RECOVERED VEHICLE                736\n",
       "DISORDERLY CONDUCT               658\n",
       "PROSTITUTION                     641\n",
       "FORGERY/COUNTERFEITING           619\n",
       "DRUNKENNESS                      465\n",
       "DRIVING UNDER THE INFLUENCE      378\n",
       "ARSON                            286\n",
       "KIDNAPPING                       257\n",
       "EMBEZZLEMENT                     168\n",
       "LIQUOR LAWS                      156\n",
       "RUNAWAY                          140\n",
       "SUICIDE                           69\n",
       "BRIBERY                           66\n",
       "EXTORTION                         60\n",
       "FAMILY OFFENSES                   53\n",
       "LOITERING                         42\n",
       "SEX OFFENSES, NON FORCIBLE        40\n",
       "BAD CHECKS                        34\n",
       "GAMBLING                          20\n",
       "PORNOGRAPHY/OBSCENE MAT            4\n",
       "TREA                               3\n",
       "Name: Category, dtype: int64"
      ]
     },
     "execution_count": 9,
     "metadata": {},
     "output_type": "execute_result"
    }
   ],
   "source": [
    "sfpd_df[\"Category\"].value_counts()\n",
    "#drop non-criminal reports from df"
   ]
  },
  {
   "cell_type": "code",
   "execution_count": 5,
   "metadata": {},
   "outputs": [
    {
     "data": {
      "text/plain": [
       "array(['ARREST, BOOKED', 'NONE', 'JUVENILE BOOKED', 'ARREST, CITED',\n",
       "       'UNFOUNDED', 'JUVENILE DIVERTED',\n",
       "       'CLEARED-CONTACT JUVENILE FOR MORE INFO', 'EXCEPTIONAL CLEARANCE',\n",
       "       'LOCATED', 'PSYCHOPATHIC CASE', 'COMPLAINANT REFUSES TO PROSECUTE',\n",
       "       'NOT PROSECUTED', 'PROSECUTED BY OUTSIDE AGENCY', 'JUVENILE CITED'],\n",
       "      dtype=object)"
      ]
     },
     "execution_count": 5,
     "metadata": {},
     "output_type": "execute_result"
    }
   ],
   "source": [
    "action_taken = sfpd_df[\"Resolution\"].unique()\n",
    "action_taken"
   ]
  },
  {
   "cell_type": "code",
   "execution_count": 6,
   "metadata": {},
   "outputs": [
    {
     "name": "stdout",
     "output_type": "stream",
     "text": [
      "14\n"
     ]
    }
   ],
   "source": [
    "print(len(action_taken))"
   ]
  },
  {
   "cell_type": "code",
   "execution_count": 7,
   "metadata": {},
   "outputs": [
    {
     "data": {
      "text/plain": [
       "array(['SOUTHERN', 'BAYVIEW', 'TENDERLOIN', 'MISSION', 'NORTHERN',\n",
       "       'TARAVAL', 'INGLESIDE', 'CENTRAL', 'RICHMOND', 'PARK', nan],\n",
       "      dtype=object)"
      ]
     },
     "execution_count": 7,
     "metadata": {},
     "output_type": "execute_result"
    }
   ],
   "source": [
    "district = sfpd_df[\"PdDistrict\"].unique()\n",
    "district"
   ]
  },
  {
   "cell_type": "code",
   "execution_count": 8,
   "metadata": {},
   "outputs": [
    {
     "data": {
      "text/plain": [
       "SOUTHERN      28445\n",
       "NORTHERN      20100\n",
       "MISSION       19503\n",
       "CENTRAL       17666\n",
       "BAYVIEW       14303\n",
       "INGLESIDE     11594\n",
       "TARAVAL       11325\n",
       "TENDERLOIN     9942\n",
       "RICHMOND       8922\n",
       "PARK           8699\n",
       "Name: PdDistrict, dtype: int64"
      ]
     },
     "execution_count": 8,
     "metadata": {},
     "output_type": "execute_result"
    }
   ],
   "source": [
    "sfpd_df[\"PdDistrict\"].value_counts()"
   ]
  },
  {
   "cell_type": "code",
   "execution_count": 12,
   "metadata": {},
   "outputs": [
    {
     "data": {
      "text/plain": [
       "160629623    17\n",
       "160174703    15\n",
       "160354262    14\n",
       "160434193    14\n",
       "160696202    13\n",
       "             ..\n",
       "160043794     1\n",
       "160840471     1\n",
       "160580376     1\n",
       "160594719     1\n",
       "160696321     1\n",
       "Name: IncidntNum, Length: 116699, dtype: int64"
      ]
     },
     "execution_count": 12,
     "metadata": {},
     "output_type": "execute_result"
    }
   ],
   "source": [
    "sfpd_df[\"IncidntNum\"].value_counts()\n",
    "#how to account for instances of reports that have more than one crime involved. \n",
    "#want to demostrate singular incidents that involve multiple crimes while also documenting all categories of crime\n",
    "#two dataframes? one for raw numbers of crime categories and one for incident numbers to represent number of individual reports"
   ]
  },
  {
   "cell_type": "code",
   "execution_count": null,
   "metadata": {},
   "outputs": [],
   "source": []
  }
 ],
 "metadata": {
  "kernelspec": {
   "display_name": "Python 3",
   "language": "python",
   "name": "python3"
  },
  "language_info": {
   "codemirror_mode": {
    "name": "ipython",
    "version": 3
   },
   "file_extension": ".py",
   "mimetype": "text/x-python",
   "name": "python",
   "nbconvert_exporter": "python",
   "pygments_lexer": "ipython3",
   "version": "3.7.6"
  }
 },
 "nbformat": 4,
 "nbformat_minor": 4
}
