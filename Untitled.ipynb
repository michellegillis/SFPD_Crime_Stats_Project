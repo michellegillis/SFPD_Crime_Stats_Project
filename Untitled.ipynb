{
 "cells": [
  {
   "cell_type": "code",
   "execution_count": 6,
   "metadata": {},
   "outputs": [],
   "source": [
    "x = \"mohan\""
   ]
  },
  {
   "cell_type": "code",
   "execution_count": 7,
   "metadata": {},
   "outputs": [
    {
     "data": {
      "text/plain": [
       "'n'"
      ]
     },
     "execution_count": 7,
     "metadata": {},
     "output_type": "execute_result"
    }
   ],
   "source": [
    "x[4]"
   ]
  },
  {
   "cell_type": "code",
   "execution_count": 10,
   "metadata": {},
   "outputs": [],
   "source": [
    "import pandas as pd\n",
    "import numpy as py\n"
   ]
  },
  {
   "cell_type": "code",
   "execution_count": 9,
   "metadata": {},
   "outputs": [
    {
     "name": "stdout",
     "output_type": "stream",
     "text": [
      "n\n",
      "a\n",
      "h\n",
      "o\n",
      "m\n"
     ]
    }
   ],
   "source": [
    "for i in range(len(x)-1, -1, -1,):\n",
    "    print(x[i])"
   ]
  },
  {
   "cell_type": "code",
   "execution_count": null,
   "metadata": {},
   "outputs": [],
   "source": []
  },
  {
   "cell_type": "code",
   "execution_count": null,
   "metadata": {},
   "outputs": [],
   "source": []
  },
  {
   "cell_type": "code",
   "execution_count": null,
   "metadata": {},
   "outputs": [],
   "source": []
  },
  {
   "cell_type": "code",
   "execution_count": null,
   "metadata": {},
   "outputs": [],
   "source": []
  },
  {
   "cell_type": "code",
   "execution_count": 12,
   "metadata": {},
   "outputs": [
    {
     "name": "stdout",
     "output_type": "stream",
     "text": [
      "        State  Score\n",
      "0  Arizona AZ     62\n",
      "1  Georgia GG     47\n",
      "2  Newyork NY     55\n",
      "3  Indiana IN     74\n",
      "4  Florida FL     31\n"
     ]
    }
   ],
   "source": [
    "df1 = {\n",
    "    \n",
    "    'State':['Arizona AZ','Georgia GG','Newyork NY','Indiana IN','Florida FL'],\n",
    "    \n",
    "    'Score':[62,47,55,74,31]}\n",
    "df1 = pd.DataFrame(df1,columns=['State','Score'])\n",
    "print(df1)\n"
   ]
  },
  {
   "cell_type": "code",
   "execution_count": 13,
   "metadata": {},
   "outputs": [
    {
     "name": "stdout",
     "output_type": "stream",
     "text": [
      "        State  Score State_reverse\n",
      "0  Arizona AZ     62    ZA anozirA\n",
      "1  Georgia GG     47    GG aigroeG\n",
      "2  Newyork NY     55    YN kroyweN\n",
      "3  Indiana IN     74    NI anaidnI\n",
      "4  Florida FL     31    LF adirolF\n"
     ]
    }
   ],
   "source": [
    "df1['State_reverse'] = df1.loc[:,'State'].apply(lambda x: x[::-1])\n",
    "print(df1)\n"
   ]
  },
  {
   "cell_type": "code",
   "execution_count": null,
   "metadata": {},
   "outputs": [],
   "source": [
    "#crime_typ_dis_df = sfpd_incnum.loc[ : \"Category\", \"PdDistrict\"]\n",
    "#crime_typ_dis_df\n",
    "#crime_typ_dis_df[\"Offense Number\"] = \"\"\n",
    "#crime_typ_dis_df = sfpd_incnum.set_index(\"Category\")\n",
    "\n",
    "#crime_typ_dis_df.head()"
   ]
  },
  {
   "cell_type": "code",
   "execution_count": null,
   "metadata": {},
   "outputs": [],
   "source": [
    "#sfpd_incnum[\"Category\"].value_counts()"
   ]
  },
  {
   "cell_type": "code",
   "execution_count": null,
   "metadata": {},
   "outputs": [],
   "source": [
    "#crime_typ_dis_df.groupby([\"PdDistrict\", \"Category\"]).size().reset_index(name=\"WEAPON LAWS\")"
   ]
  }
 ],
 "metadata": {
  "kernelspec": {
   "display_name": "Python 3",
   "language": "python",
   "name": "python3"
  },
  "language_info": {
   "codemirror_mode": {
    "name": "ipython",
    "version": 3
   },
   "file_extension": ".py",
   "mimetype": "text/x-python",
   "name": "python",
   "nbconvert_exporter": "python",
   "pygments_lexer": "ipython3",
   "version": "3.7.6"
  }
 },
 "nbformat": 4,
 "nbformat_minor": 4
}
